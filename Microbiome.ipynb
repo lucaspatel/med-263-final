{
 "cells": [
  {
   "cell_type": "markdown",
   "id": "3293d859",
   "metadata": {},
   "source": [
    "# Exploring the Microbiome - MED-263 Final\n",
    "## Lucas Patel & Yotam Voskoboynik\n",
    "\n",
    "### Table of Contents\n",
    "\n",
    "* [Introduction ](#introduction)\n",
    "    * [What is the microbiome?](#what-is-the-microbiome)\n",
    "    * [Data retrieval](#data-retrieval)\n",
    "* [Exploration](#exploration)\n",
    "    * [Abundance](#abundance)\n",
    "    * [Prevalence](#prevalence)\n",
    "    * [Visualization](#visualization)\n",
    "* [Conclusion](#conclusion)\n",
    "        \n",
    "---"
   ]
  },
  {
   "cell_type": "markdown",
   "id": "1692c62a",
   "metadata": {},
   "source": [
    "## Introduction <a name=\"introduction\"></a>"
   ]
  },
  {
   "cell_type": "markdown",
   "id": "d516af79",
   "metadata": {},
   "source": [
    "### What is the microbiome? <a name=\"what-is-the-microbiome\"></a>\n",
    "\n",
    "The microbiome refers to the complex environments in which microorganisms thrive under various conditions. The study of the microbiome looks at the differences between communities and assesses concepts such as the relative proportions of different taxa, their impacts on each other, and their changes over time. Microbiomes can be derived from the environment, such as oceans or the atmosphere, from food and waste, or even from inside the bodies of other larger organisms. The software described below facilitates the analysis of microbial communities and the following guide is an overview of these software functionalities."
   ]
  },
  {
   "cell_type": "markdown",
   "id": "fb7d06dd",
   "metadata": {},
   "source": [
    "### Data retrieval <a name=\"section_1_2\"></a>\n",
    "\n",
    "First, install the microbiome `mia` package (and `miaViz`) if not already done:"
   ]
  },
  {
   "cell_type": "code",
   "execution_count": 20,
   "id": "82d8353a",
   "metadata": {},
   "outputs": [
    {
     "name": "stderr",
     "output_type": "stream",
     "text": [
      "Loading required package: miaViz\n",
      "\n",
      "Warning message in library(package, lib.loc = lib.loc, character.only = TRUE, logical.return = TRUE, :\n",
      "“there is no package called ‘miaViz’”\n",
      "'getOption(\"repos\")' replaces Bioconductor standard repositories, see\n",
      "'?repositories' for details\n",
      "\n",
      "replacement repositories:\n",
      "    CRAN: https://cran.r-project.org\n",
      "\n",
      "\n",
      "Bioconductor version 3.14 (BiocManager 1.30.16), R 4.1.2 (2021-11-01)\n",
      "\n",
      "Installing package(s) 'miaViz'\n",
      "\n",
      "also installing the dependencies ‘gridGraphics’, ‘tweenr’, ‘polyclip’, ‘ggplotify’, ‘patchwork’, ‘ggforce’, ‘igraph’, ‘graphlayouts’, ‘aplot’, ‘ggfun’, ‘ggraph’, ‘ggtree’, ‘ggnewscale’, ‘tidygraph’\n",
      "\n",
      "\n",
      "Updating HTML index of packages in '.Library'\n",
      "\n",
      "Making 'packages.html' ...\n",
      " done\n",
      "\n",
      "Old packages: 'clipr', 'desc', 'evaluate', 'GenomicFeatures', 'limma',\n",
      "  'locfit', 'mgcv', 'openssl', 'rmarkdown', 'survival', 'tinytex', 'xfun',\n",
      "  'XML', 'yaml'\n",
      "\n"
     ]
    }
   ],
   "source": [
    "if(!require(\"mia\")){  \n",
    "    BiocManager::install(\"miaViz\")\n",
    "}\n",
    "if(!require(\"mia\")){  \n",
    "    BiocManager::install(\"mia\")\n",
    "}\n",
    "library(\"mia\")\n",
    "library(\"miaViz\")"
   ]
  },
  {
   "cell_type": "markdown",
   "id": "9c3a3727",
   "metadata": {},
   "source": [
    "The `mia` package features a variety of functions to import microbiome data from numerous input file formats including CSV and QIIME2. However, for simplicity we will load the built in microbiome data as follows:"
   ]
  },
  {
   "cell_type": "code",
   "execution_count": 15,
   "id": "00daa5cf",
   "metadata": {},
   "outputs": [
    {
     "data": {
      "text/plain": [
       "class: TreeSummarizedExperiment \n",
       "dim: 19216 26 \n",
       "metadata(0):\n",
       "assays(1): counts\n",
       "rownames(19216): 549322 522457 ... 200359 271582\n",
       "rowData names(7): Kingdom Phylum ... Genus Species\n",
       "colnames(26): CL3 CC1 ... Even2 Even3\n",
       "colData names(7): X.SampleID Primer ... SampleType Description\n",
       "reducedDimNames(0):\n",
       "mainExpName: NULL\n",
       "altExpNames(0):\n",
       "rowLinks: a LinkDataFrame (19216 rows)\n",
       "rowTree: 1 phylo tree(s) (19216 leaves)\n",
       "colLinks: NULL\n",
       "colTree: NULL"
      ]
     },
     "metadata": {},
     "output_type": "display_data"
    }
   ],
   "source": [
    "data(GlobalPatterns, package=\"mia\") \n",
    "gp_mia <- GlobalPatterns\n",
    "gp_mia"
   ]
  },
  {
   "cell_type": "markdown",
   "id": "2076c23b",
   "metadata": {},
   "source": [
    "## Exploration <a name=\"exploration\"></a>\n",
    "\n",
    "The `mia` package offers several ways to explore microbial data. In this section we'll cover abundance and prevalence."
   ]
  },
  {
   "cell_type": "markdown",
   "id": "973d1fa9",
   "metadata": {},
   "source": [
    "### Abundance <a name=\"abundance\"></a>\n",
    "\n"
   ]
  },
  {
   "cell_type": "code",
   "execution_count": 21,
   "id": "fbd85394",
   "metadata": {},
   "outputs": [
    {
     "ename": "ERROR",
     "evalue": "Error in library(microbiomeDataSets): there is no package called ‘microbiomeDataSets’\n",
     "output_type": "error",
     "traceback": [
      "Error in library(microbiomeDataSets): there is no package called ‘microbiomeDataSets’\nTraceback:\n",
      "1. library(microbiomeDataSets)"
     ]
    }
   ],
   "source": [
    "library(microbiomeDataSets)\n",
    "tse <- atlas1006()\n",
    "\n",
    "# Counts relative abundances\n",
    "tse <- transformSamples(tse, method = \"relabundance\")\n",
    "tse"
   ]
  },
  {
   "cell_type": "markdown",
   "id": "f55dd819",
   "metadata": {},
   "source": [
    "### Prevalence <a name=\"prevalence\"></a>\n",
    "\n"
   ]
  },
  {
   "cell_type": "markdown",
   "id": "3e4f3ed1",
   "metadata": {},
   "source": [
    "###  Visualization <a name=\"visualization\"></a>\n",
    "\n",
    "Using `miaviz`, we can visualize the abundances as well."
   ]
  },
  {
   "cell_type": "code",
   "execution_count": 18,
   "id": "637d259e",
   "metadata": {},
   "outputs": [
    {
     "ename": "ERROR",
     "evalue": "Error in library(miaViz): there is no package called ‘miaViz’\n",
     "output_type": "error",
     "traceback": [
      "Error in library(miaViz): there is no package called ‘miaViz’\nTraceback:\n",
      "1. library(miaViz)"
     ]
    }
   ],
   "source": [
    "library(miaViz)\n",
    "plotAbundanceDensity(tse, layout = \"jitter\", abund_values = \"relabundance\",\n",
    "                        n = 40, point_size=1, point_shape=19, point_alpha=0.1) + \n",
    "                        scale_x_log10(label=scales::percent)"
   ]
  },
  {
   "cell_type": "markdown",
   "id": "ec68c3f0",
   "metadata": {},
   "source": [
    "## Conclusion <a name=\"conclusion\"></a>"
   ]
  },
  {
   "cell_type": "code",
   "execution_count": null,
   "id": "e42c03d7",
   "metadata": {},
   "outputs": [],
   "source": []
  }
 ],
 "metadata": {
  "kernelspec": {
   "display_name": "R",
   "language": "R",
   "name": "ir"
  },
  "language_info": {
   "codemirror_mode": "r",
   "file_extension": ".r",
   "mimetype": "text/x-r-source",
   "name": "R",
   "pygments_lexer": "r",
   "version": "4.1.2"
  }
 },
 "nbformat": 4,
 "nbformat_minor": 5
}
