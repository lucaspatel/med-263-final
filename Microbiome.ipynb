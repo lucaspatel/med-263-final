{
 "cells": [
  {
   "cell_type": "markdown",
   "id": "3293d859",
   "metadata": {},
   "source": [
    "# Exploring the Microbiome - MED-263 Final\n",
    "## Lucas Patel & Yotam Voskoboynik\n",
    "\n",
    "### Table of Contents\n",
    "\n",
    "* [Introduction ](#introduction)\n",
    "    * [What is the microbiome?](#what-is-the-microbiome)\n",
    "    * [Data retrieval](#data-retrieval)\n",
    "* [Exploration](#exploration)\n",
    "    * [Abundance](#abundance)\n",
    "    * [Prevalence](#prevalence)\n",
    "* [Diversity Analysis](#diversity-analysis)\n",
    "    * [Alpha-Diversity](#alpha)\n",
    "    * [Beta-Diversity](#beta)\n",
    "* [Conclusion](#conclusion)\n",
    "        \n",
    "---"
   ]
  },
  {
   "cell_type": "markdown",
   "id": "1692c62a",
   "metadata": {},
   "source": [
    "## Introduction <a name=\"introduction\"></a>"
   ]
  },
  {
   "cell_type": "markdown",
   "id": "d516af79",
   "metadata": {},
   "source": [
    "### What is the microbiome? <a name=\"what-is-the-microbiome\"></a>\n",
    "\n",
    "The microbiome refers to the complex environments in which microorganisms thrive under various conditions. The study of the microbiome looks at the differences between communities and assesses concepts such as the relative proportions of different taxa, their impacts on each other, and their changes over time. Microbiomes can be derived from the environment, such as oceans or the atmosphere, from food and waste, or even from inside the bodies of other larger organisms. The software described below facilitates the analysis of microbial communities and the following guide is an overview of these software functionalities."
   ]
  },
  {
   "cell_type": "markdown",
   "id": "fb7d06dd",
   "metadata": {},
   "source": [
    "### Data retrieval <a name=\"section_1_2\"></a>\n",
    "\n",
    "First, install the microbiome `mia` package (and `miaViz`) if not already done:"
   ]
  },
  {
   "cell_type": "code",
   "execution_count": 1,
   "id": "82d8353a",
   "metadata": {},
   "outputs": [
    {
     "name": "stderr",
     "output_type": "stream",
     "text": [
      "Loading required package: miaViz\n",
      "\n",
      "Loading required package: SummarizedExperiment\n",
      "\n",
      "Loading required package: MatrixGenerics\n",
      "\n",
      "Loading required package: matrixStats\n",
      "\n",
      "\n",
      "Attaching package: 'MatrixGenerics'\n",
      "\n",
      "\n",
      "The following objects are masked from 'package:matrixStats':\n",
      "\n",
      "    colAlls, colAnyNAs, colAnys, colAvgsPerRowSet, colCollapse,\n",
      "    colCounts, colCummaxs, colCummins, colCumprods, colCumsums,\n",
      "    colDiffs, colIQRDiffs, colIQRs, colLogSumExps, colMadDiffs,\n",
      "    colMads, colMaxs, colMeans2, colMedians, colMins, colOrderStats,\n",
      "    colProds, colQuantiles, colRanges, colRanks, colSdDiffs, colSds,\n",
      "    colSums2, colTabulates, colVarDiffs, colVars, colWeightedMads,\n",
      "    colWeightedMeans, colWeightedMedians, colWeightedSds,\n",
      "    colWeightedVars, rowAlls, rowAnyNAs, rowAnys, rowAvgsPerColSet,\n",
      "    rowCollapse, rowCounts, rowCummaxs, rowCummins, rowCumprods,\n",
      "    rowCumsums, rowDiffs, rowIQRDiffs, rowIQRs, rowLogSumExps,\n",
      "    rowMadDiffs, rowMads, rowMaxs, rowMeans2, rowMedians, rowMins,\n",
      "    rowOrderStats, rowProds, rowQuantiles, rowRanges, rowRanks,\n",
      "    rowSdDiffs, rowSds, rowSums2, rowTabulates, rowVarDiffs, rowVars,\n",
      "    rowWeightedMads, rowWeightedMeans, rowWeightedMedians,\n",
      "    rowWeightedSds, rowWeightedVars\n",
      "\n",
      "\n",
      "Loading required package: GenomicRanges\n",
      "\n",
      "Loading required package: stats4\n",
      "\n",
      "Loading required package: BiocGenerics\n",
      "\n",
      "\n",
      "Attaching package: 'BiocGenerics'\n",
      "\n",
      "\n",
      "The following objects are masked from 'package:stats':\n",
      "\n",
      "    IQR, mad, sd, var, xtabs\n",
      "\n",
      "\n",
      "The following objects are masked from 'package:base':\n",
      "\n",
      "    anyDuplicated, append, as.data.frame, basename, cbind, colnames,\n",
      "    dirname, do.call, duplicated, eval, evalq, Filter, Find, get, grep,\n",
      "    grepl, intersect, is.unsorted, lapply, Map, mapply, match, mget,\n",
      "    order, paste, pmax, pmax.int, pmin, pmin.int, Position, rank,\n",
      "    rbind, Reduce, rownames, sapply, setdiff, sort, table, tapply,\n",
      "    union, unique, unsplit, which.max, which.min\n",
      "\n",
      "\n",
      "Loading required package: S4Vectors\n",
      "\n",
      "\n",
      "Attaching package: 'S4Vectors'\n",
      "\n",
      "\n",
      "The following objects are masked from 'package:base':\n",
      "\n",
      "    expand.grid, I, unname\n",
      "\n",
      "\n",
      "Loading required package: IRanges\n",
      "\n",
      "\n",
      "Attaching package: 'IRanges'\n",
      "\n",
      "\n",
      "The following object is masked from 'package:grDevices':\n",
      "\n",
      "    windows\n",
      "\n",
      "\n",
      "Loading required package: GenomeInfoDb\n",
      "\n",
      "Loading required package: Biobase\n",
      "\n",
      "Welcome to Bioconductor\n",
      "\n",
      "    Vignettes contain introductory material; view with\n",
      "    'browseVignettes()'. To cite Bioconductor, see\n",
      "    'citation(\"Biobase\")', and for packages 'citation(\"pkgname\")'.\n",
      "\n",
      "\n",
      "\n",
      "Attaching package: 'Biobase'\n",
      "\n",
      "\n",
      "The following object is masked from 'package:MatrixGenerics':\n",
      "\n",
      "    rowMedians\n",
      "\n",
      "\n",
      "The following objects are masked from 'package:matrixStats':\n",
      "\n",
      "    anyMissing, rowMedians\n",
      "\n",
      "\n",
      "Loading required package: TreeSummarizedExperiment\n",
      "\n",
      "Loading required package: SingleCellExperiment\n",
      "\n",
      "Loading required package: Biostrings\n",
      "\n",
      "Loading required package: XVector\n",
      "\n",
      "\n",
      "Attaching package: 'Biostrings'\n",
      "\n",
      "\n",
      "The following object is masked from 'package:base':\n",
      "\n",
      "    strsplit\n",
      "\n",
      "\n",
      "Loading required package: mia\n",
      "\n",
      "Loading required package: MultiAssayExperiment\n",
      "\n",
      "Loading required package: ggplot2\n",
      "\n",
      "Loading required package: ggraph\n",
      "\n"
     ]
    }
   ],
   "source": [
    "if(!require(\"miaViz\")){  \n",
    "    BiocManager::install(\"miaViz\")\n",
    "}\n",
    "if(!require(\"mia\")){  \n",
    "    BiocManager::install(\"mia\")\n",
    "}\n",
    "\n",
    "library(\"mia\")\n",
    "library(\"miaViz\")"
   ]
  },
  {
   "cell_type": "code",
   "execution_count": 2,
   "id": "91729e47",
   "metadata": {},
   "outputs": [
    {
     "name": "stderr",
     "output_type": "stream",
     "text": [
      "Loading required package: microbiomeDataSets\n",
      "\n"
     ]
    }
   ],
   "source": [
    "# Optional\n",
    "# Not required for our analysis, useful for finding preloaded microbiome datasets \n",
    "if(!require(\"microbiomeDataSets\")){\n",
    "    BiocManager::install(\"microbiomeDataSets\")\n",
    "}"
   ]
  },
  {
   "cell_type": "markdown",
   "id": "9c3a3727",
   "metadata": {},
   "source": [
    "The `mia` package features a variety of functions to import microbiome data from numerous input file formats including CSV and QIIME2. However, for simplicity we will load the built in microbiome data as follows:"
   ]
  },
  {
   "cell_type": "code",
   "execution_count": 3,
   "id": "00daa5cf",
   "metadata": {},
   "outputs": [
    {
     "data": {
      "text/plain": [
       "class: TreeSummarizedExperiment \n",
       "dim: 19216 26 \n",
       "metadata(0):\n",
       "assays(1): counts\n",
       "rownames(19216): 549322 522457 ... 200359 271582\n",
       "rowData names(7): Kingdom Phylum ... Genus Species\n",
       "colnames(26): CL3 CC1 ... Even2 Even3\n",
       "colData names(7): X.SampleID Primer ... SampleType Description\n",
       "reducedDimNames(0):\n",
       "mainExpName: NULL\n",
       "altExpNames(0):\n",
       "rowLinks: a LinkDataFrame (19216 rows)\n",
       "rowTree: 1 phylo tree(s) (19216 leaves)\n",
       "colLinks: NULL\n",
       "colTree: NULL"
      ]
     },
     "metadata": {},
     "output_type": "display_data"
    }
   ],
   "source": [
    "data(GlobalPatterns, package=\"mia\") \n",
    "gp_mia <- GlobalPatterns\n",
    "gp_mia"
   ]
  },
  {
   "cell_type": "markdown",
   "id": "d0aa1459",
   "metadata": {},
   "source": [
    "As you can see, the above data set is a `TreeSummarizedExperiment`. A `TreeSummarizedExperiment` is an extension of the `SummarizedExperiment` class in R, which is a convenient way of storing tabular data that is common in genomics. The `TreeSummarizedExperiment` adds further improvements for hierarchical data which is very relevant in the analysis of the microbiome where hierarchical phylogenetic trees are common.\n",
    "\n",
    "![TSE](https://raw.githubusercontent.com/fionarhuang/TreeSummarizedExperiment/master/vignettes/tse.png)\n",
    "\n",
    "We can explore a bit of the data as follows:"
   ]
  },
  {
   "cell_type": "code",
   "execution_count": 4,
   "id": "3aca6994",
   "metadata": {},
   "outputs": [
    {
     "data": {
      "text/plain": [
       "DataFrame with 19216 rows and 7 columns\n",
       "           Kingdom        Phylum        Class        Order        Family\n",
       "       <character>   <character>  <character>  <character>   <character>\n",
       "549322     Archaea Crenarchaeota Thermoprotei           NA            NA\n",
       "522457     Archaea Crenarchaeota Thermoprotei           NA            NA\n",
       "951        Archaea Crenarchaeota Thermoprotei Sulfolobales Sulfolobaceae\n",
       "244423     Archaea Crenarchaeota        Sd-NA           NA            NA\n",
       "586076     Archaea Crenarchaeota        Sd-NA           NA            NA\n",
       "...            ...           ...          ...          ...           ...\n",
       "278222    Bacteria           SR1           NA           NA            NA\n",
       "463590    Bacteria           SR1           NA           NA            NA\n",
       "535321    Bacteria           SR1           NA           NA            NA\n",
       "200359    Bacteria           SR1           NA           NA            NA\n",
       "271582    Bacteria           SR1           NA           NA            NA\n",
       "             Genus                Species\n",
       "       <character>            <character>\n",
       "549322          NA                     NA\n",
       "522457          NA                     NA\n",
       "951     Sulfolobus Sulfolobusacidocalda..\n",
       "244423          NA                     NA\n",
       "586076          NA                     NA\n",
       "...            ...                    ...\n",
       "278222          NA                     NA\n",
       "463590          NA                     NA\n",
       "535321          NA                     NA\n",
       "200359          NA                     NA\n",
       "271582          NA                     NA"
      ]
     },
     "metadata": {},
     "output_type": "display_data"
    }
   ],
   "source": [
    "rowData(gp_mia)"
   ]
  },
  {
   "cell_type": "markdown",
   "id": "12610f25",
   "metadata": {},
   "source": [
    "As we proceed in this tutorial, we may want to use different datasets for different exploratory purposes. While this demonstration data gives us a good overview on how the data is structured, it lacks human-readable phylogenic information. In order to list all the available datasets we can use another package `microbiomeDataSets` that features microbial datasets from literature already processed and stored in `TreeSummarizedExperiment` objects."
   ]
  },
  {
   "cell_type": "code",
   "execution_count": 5,
   "id": "03361947",
   "metadata": {},
   "outputs": [
    {
     "data": {
      "text/html": [
       "<table class=\"dataframe\">\n",
       "<caption>A data.frame: 9 × 1</caption>\n",
       "<thead>\n",
       "\t<tr><th scope=col>Dataset</th></tr>\n",
       "\t<tr><th scope=col>&lt;chr&gt;</th></tr>\n",
       "</thead>\n",
       "<tbody>\n",
       "\t<tr><td>GrieneisenTSData </td></tr>\n",
       "\t<tr><td>HintikkaXOData   </td></tr>\n",
       "\t<tr><td>LahtiMLData      </td></tr>\n",
       "\t<tr><td>LahtiMData       </td></tr>\n",
       "\t<tr><td>LahtiWAData      </td></tr>\n",
       "\t<tr><td>OKeefeDSData     </td></tr>\n",
       "\t<tr><td>SilvermanAGutData</td></tr>\n",
       "\t<tr><td>SongQAData       </td></tr>\n",
       "\t<tr><td>SprockettTHData  </td></tr>\n",
       "</tbody>\n",
       "</table>\n"
      ],
      "text/latex": [
       "A data.frame: 9 × 1\n",
       "\\begin{tabular}{l}\n",
       " Dataset\\\\\n",
       " <chr>\\\\\n",
       "\\hline\n",
       "\t GrieneisenTSData \\\\\n",
       "\t HintikkaXOData   \\\\\n",
       "\t LahtiMLData      \\\\\n",
       "\t LahtiMData       \\\\\n",
       "\t LahtiWAData      \\\\\n",
       "\t OKeefeDSData     \\\\\n",
       "\t SilvermanAGutData\\\\\n",
       "\t SongQAData       \\\\\n",
       "\t SprockettTHData  \\\\\n",
       "\\end{tabular}\n"
      ],
      "text/markdown": [
       "\n",
       "A data.frame: 9 × 1\n",
       "\n",
       "| Dataset &lt;chr&gt; |\n",
       "|---|\n",
       "| GrieneisenTSData  |\n",
       "| HintikkaXOData    |\n",
       "| LahtiMLData       |\n",
       "| LahtiMData        |\n",
       "| LahtiWAData       |\n",
       "| OKeefeDSData      |\n",
       "| SilvermanAGutData |\n",
       "| SongQAData        |\n",
       "| SprockettTHData   |\n",
       "\n"
      ],
      "text/plain": [
       "  Dataset          \n",
       "1 GrieneisenTSData \n",
       "2 HintikkaXOData   \n",
       "3 LahtiMLData      \n",
       "4 LahtiMData       \n",
       "5 LahtiWAData      \n",
       "6 OKeefeDSData     \n",
       "7 SilvermanAGutData\n",
       "8 SongQAData       \n",
       "9 SprockettTHData  "
      ]
     },
     "metadata": {},
     "output_type": "display_data"
    }
   ],
   "source": [
    "# Optional\n",
    "library(microbiomeDataSets)\n",
    "availableDataSets()"
   ]
  },
  {
   "cell_type": "markdown",
   "id": "2076c23b",
   "metadata": {},
   "source": [
    "## Exploration <a name=\"exploration\"></a>\n",
    "\n",
    "The `mia` package offers several ways to explore microbial data. In this section we'll cover abundance and prevalence.\n",
    "\n",
    "To do this, we'll use data from the [Lahti et al. 2014](https://www.nature.com/articles/ncomms5344.pdf?origin=ppub) paper \"Tipping elements in the human intestinal ecosystem\" and load this data from the `microbiomeDataSets` package."
   ]
  },
  {
   "cell_type": "markdown",
   "id": "973d1fa9",
   "metadata": {},
   "source": [
    "### Abundance <a name=\"abundance\"></a>\n",
    "\n",
    "Relative abundance as a term in ecology refers to \"the percent composition of an organism of a particular kind relative to the total number of organisms in the area\" where in this case the \"area\" refers to the intestinal microbiome of western inhabitants.\n",
    "\n",
    "To visualize this, we will plot the abundances of the entries with the highest relative abundances within this data set."
   ]
  },
  {
   "cell_type": "code",
   "execution_count": 6,
   "id": "fbd85394",
   "metadata": {},
   "outputs": [
    {
     "name": "stderr",
     "output_type": "stream",
     "text": [
      "snapshotDate(): 2021-10-19\n",
      "\n",
      "see ?microbiomeDataSets and browseVignettes('microbiomeDataSets') for documentation\n",
      "\n",
      "loading from cache\n",
      "\n",
      "see ?microbiomeDataSets and browseVignettes('microbiomeDataSets') for documentation\n",
      "\n",
      "loading from cache\n",
      "\n",
      "see ?microbiomeDataSets and browseVignettes('microbiomeDataSets') for documentation\n",
      "\n",
      "loading from cache\n",
      "\n"
     ]
    },
    {
     "data": {
      "image/png": "[encoded data removed]",
      "text/plain": [
       "plot without title"
      ]
     },
     "metadata": {
      "image/png": {
       "height": 420,
       "width": 420
      }
     },
     "output_type": "display_data"
    }
   ],
   "source": [
    "tse <- atlas1006() # refers to LahtiWAData above\n",
    "\n",
    "# Counts relative abundances\n",
    "tse <- transformSamples(tse, method = \"relabundance\")\n",
    "plotAbundance(tse, abund_values = \"relabundance\", rank=\"Family\")"
   ]
  },
  {
   "cell_type": "markdown",
   "id": "26b2bd61",
   "metadata": {},
   "source": [
    "We can see relatively high abundances for families like Bacteroidetes and much lower abundances for families like Spirochaetes.  \n",
    "\n",
    "While pretty, this isn't super useful for delinating granular patterns, so we'll graph abundances again at a finer taxonomical level and use both a jitter plot and a density plot with the first 10 entries for simplicity."
   ]
  },
  {
   "cell_type": "code",
   "execution_count": 7,
   "id": "bccc6962",
   "metadata": {},
   "outputs": [
    {
     "data": {
      "image/png": "[encoded data removed]",
      "text/plain": [
       "plot without title"
      ]
     },
     "metadata": {
      "image/png": {
       "height": 420,
       "width": 420
      }
     },
     "output_type": "display_data"
    },
    {
     "data": {
      "image/png": "[encoded data removed]",
      "text/plain": [
       "plot without title"
      ]
     },
     "metadata": {
      "image/png": {
       "height": 420,
       "width": 420
      }
     },
     "output_type": "display_data"
    }
   ],
   "source": [
    "plotAbundanceDensity(tse, layout = \"jitter\", abund_values = \"relabundance\",\n",
    "                     n = 10, point_size=1, point_shape=19, point_alpha=0.5) + \n",
    "                     scale_x_log10(label=scales::percent)\n",
    "\n",
    "\n",
    "plotAbundanceDensity(tse, layout = \"density\", abund_values = \"relabundance\",\n",
    "                     n = 10,  point_alpha=1/10 ) +\n",
    "                     scale_x_log10()"
   ]
  },
  {
   "cell_type": "markdown",
   "id": "cecbae72",
   "metadata": {},
   "source": [
    "While the density plots seem to show rather uninteresting distributions, remember that these `TreeSummarizedExperiment` datasets contain metadata. We can check the metadata for the study participants like so:"
   ]
  },
  {
   "cell_type": "code",
   "execution_count": 8,
   "id": "c898be9e",
   "metadata": {},
   "outputs": [
    {
     "data": {
      "text/html": [
       "<style>\n",
       ".list-inline {list-style: none; margin:0; padding: 0}\n",
       ".list-inline>li {display: inline-block}\n",
       ".list-inline>li:not(:last-child)::after {content: \"\\00b7\"; padding: 0 .5ex}\n",
       "</style>\n",
       "<ol class=list-inline><li>'age'</li><li>'sex'</li><li>'nationality'</li><li>'DNA_extraction_method'</li><li>'project'</li><li>'diversity'</li><li>'bmi_group'</li><li>'subject'</li><li>'time'</li><li>'sample'</li></ol>\n"
      ],
      "text/latex": [
       "\\begin{enumerate*}\n",
       "\\item 'age'\n",
       "\\item 'sex'\n",
       "\\item 'nationality'\n",
       "\\item 'DNA\\_extraction\\_method'\n",
       "\\item 'project'\n",
       "\\item 'diversity'\n",
       "\\item 'bmi\\_group'\n",
       "\\item 'subject'\n",
       "\\item 'time'\n",
       "\\item 'sample'\n",
       "\\end{enumerate*}\n"
      ],
      "text/markdown": [
       "1. 'age'\n",
       "2. 'sex'\n",
       "3. 'nationality'\n",
       "4. 'DNA_extraction_method'\n",
       "5. 'project'\n",
       "6. 'diversity'\n",
       "7. 'bmi_group'\n",
       "8. 'subject'\n",
       "9. 'time'\n",
       "10. 'sample'\n",
       "\n",
       "\n"
      ],
      "text/plain": [
       " [1] \"age\"                   \"sex\"                   \"nationality\"          \n",
       " [4] \"DNA_extraction_method\" \"project\"               \"diversity\"            \n",
       " [7] \"bmi_group\"             \"subject\"               \"time\"                 \n",
       "[10] \"sample\"               "
      ]
     },
     "metadata": {},
     "output_type": "display_data"
    }
   ],
   "source": [
    "names(colData(tse))"
   ]
  },
  {
   "cell_type": "markdown",
   "id": "d5c0e186",
   "metadata": {},
   "source": [
    "Then we can color the density plot using this participant metadata to look for interesting patterns."
   ]
  },
  {
   "cell_type": "code",
   "execution_count": 9,
   "id": "20f28e9f",
   "metadata": {},
   "outputs": [
    {
     "data": {
      "image/png": "[encoded data removed]",
      "text/plain": [
       "plot without title"
      ]
     },
     "metadata": {
      "image/png": {
       "height": 420,
       "width": 420
      }
     },
     "output_type": "display_data"
    },
    {
     "data": {
      "image/png": "[encoded data removed]",
      "text/plain": [
       "plot without title"
      ]
     },
     "metadata": {
      "image/png": {
       "height": 420,
       "width": 420
      }
     },
     "output_type": "display_data"
    },
    {
     "data": {
      "image/png": "[encoded data removed]",
      "text/plain": [
       "plot without title"
      ]
     },
     "metadata": {
      "image/png": {
       "height": 420,
       "width": 420
      }
     },
     "output_type": "display_data"
    }
   ],
   "source": [
    "plotAbundanceDensity(tse, layout = \"density\", abund_values = \"relabundance\",\n",
    "                     n = 10, colour_by=\"bmi_group\", point_alpha=1/10 ) +\n",
    "                     scale_x_log10()\n",
    "plotAbundanceDensity(tse, layout = \"density\", abund_values = \"relabundance\",\n",
    "                     n = 10, colour_by=\"nationality\", point_alpha=1/10 ) +\n",
    "                     scale_x_log10()\n",
    "plotAbundanceDensity(tse, layout = \"density\", abund_values = \"relabundance\",\n",
    "                     n = 10, colour_by=\"sex\", point_alpha=1/10 ) +\n",
    "                     scale_x_log10()"
   ]
  },
  {
   "cell_type": "markdown",
   "id": "bd782d14",
   "metadata": {},
   "source": [
    "Much more interesting! As you can see there is variability in the distribution of taxa for different nationalities and for different BMI groups. The uncolored versions of these plots show the cumulative average across all samples, but breaking down abundances in this way can reveal patterns for further study.\n",
    "\n",
    "\n",
    "\n",
    "These results are also suggestive of one of Lahti et al's biggest takeaways, that certain intestinal bacterial abundances exhibit bimodal distributions where bacteria are  highly-abundant in some but not abundant in other samples, as in for example Bacteriodes vulgatis. See Lahti et al below:\n",
    "\n",
    "```\n",
    "Here, based on a deep phylogenetic analysis of the intestinal microbiota in a thousand western adults, we identify groups of bacteria that exhibit robust bistable abundance distributions. These bacteria are either abundant or nearly absent in most individuals, and exhibit decreased temporal stability at the intermediate abundance range. The abundances of these bimodally distributed bacteria vary independently, and their abundance distributions are not affected by short-term dietary interventions. However, their contrasting alternative states are associated with host factors such as ageing and overweight.\n",
    "```"
   ]
  },
  {
   "cell_type": "markdown",
   "id": "f55dd819",
   "metadata": {},
   "source": [
    "### Prevalence <a name=\"prevalence\"></a>\n",
    "\n",
    "Prevalence refers to the proportion of samples in the dataset where a certain microbial species is exhibited. Essentially, prevalence characterizes how common some microbial signal is rather than how strong it is. Prevalence is valuable because it allows for interpretation of patterns in the distribution of taxa.\n",
    "\n",
    "Using `mia` and some helper code, we'll investigate the prevalences from the same dataset. And with `miaviz`, we can visualize the relative prevalences as well.\n",
    "\n",
    "We'll start by reporting all the prevalences across the dataset."
   ]
  },
  {
   "cell_type": "code",
   "execution_count": 10,
   "id": "e0696a1d",
   "metadata": {},
   "outputs": [
    {
     "data": {
      "text/html": [
       "<style>\n",
       ".dl-inline {width: auto; margin:0; padding: 0}\n",
       ".dl-inline>dt, .dl-inline>dd {float: none; width: auto; display: inline-block}\n",
       ".dl-inline>dt::after {content: \":\\0020\"; padding-right: .5ex}\n",
       ".dl-inline>dt:not(:first-of-type) {padding-left: .5ex}\n",
       "</style><dl class=dl-inline><dt>Actinomycetaceae</dt><dd>0</dd><dt>Aerococcus</dt><dd>0</dd><dt>Aeromonas</dt><dd>0</dd><dt>Akkermansia</dt><dd>0.127715030408341</dd><dt>Alcaligenes faecalis et rel.</dt><dd>0</dd><dt>Allistipes et rel.</dt><dd>0.493483927019983</dd><dt>Anaerobiospirillum</dt><dd>0</dd><dt>Anaerofustis</dt><dd>0</dd><dt>Anaerostipes caccae et rel.</dt><dd>0.514335360556038</dd><dt>Anaerotruncus colihominis et rel.</dt><dd>0.0399652476107732</dd><dt>Anaerovorax odorimutans et rel.</dt><dd>0.00695047784535187</dd><dt>Aneurinibacillus</dt><dd>0</dd><dt>Aquabacterium</dt><dd>0</dd><dt>Asteroleplasma et rel.</dt><dd>0</dd><dt>Atopobium</dt><dd>0</dd><dt>Bacillus</dt><dd>0</dd><dt>Bacteroides fragilis et rel.</dt><dd>0.227628149435274</dd><dt>Bacteroides intestinalis et rel.</dt><dd>0.00260642919200695</dd><dt>Bacteroides ovatus et rel.</dt><dd>0.125108601216334</dd><dt>Bacteroides plebeius et rel.</dt><dd>0.0703735881841877</dd><dt>Bacteroides splachnicus et rel.</dt><dd>0.0278019113814075</dd><dt>Bacteroides stercoris et rel.</dt><dd>0.00868809730668984</dd><dt>Bacteroides uniformis et rel.</dt><dd>0.201563857515204</dd><dt>Bacteroides vulgatus et rel.</dt><dd>0.731537793223284</dd><dt>Bifidobacterium</dt><dd>0.40139009556907</dd><dt>Bilophila et rel.</dt><dd>0</dd><dt>Brachyspira</dt><dd>0</dd><dt>Bryantella formatexigens et rel.</dt><dd>0.4874022589053</dd><dt>Bulleidia moorei et rel.</dt><dd>0</dd><dt>Burkholderia</dt><dd>0</dd><dt>Butyrivibrio crossotus et rel.</dt><dd>0.729800173761946</dd><dt>Campylobacter</dt><dd>0</dd><dt>Catenibacterium mitsuokai et rel.</dt><dd>0.00955690703735882</dd><dt>Clostridium (sensu stricto)</dt><dd>0.0321459600347524</dd><dt>Clostridium cellulosi et rel.</dt><dd>0.686359687228497</dd><dt>Clostridium colinum et rel.</dt><dd>0.0173761946133797</dd><dt>Clostridium difficile et rel.</dt><dd>0.0851433536055604</dd><dt>Clostridium felsineum et rel.</dt><dd>0</dd><dt>Clostridium leptum et rel.</dt><dd>0.471763683753258</dd><dt>Clostridium nexile et rel.</dt><dd>0.264118158123371</dd><dt>Clostridium orbiscindens et rel.</dt><dd>0.831450912250217</dd><dt>Clostridium ramosum et rel.</dt><dd>0.000868809730668983</dd><dt>Clostridium sphenoides et rel.</dt><dd>0.476107732406603</dd><dt>Clostridium stercorarium et rel.</dt><dd>0.0104257167680278</dd><dt>Clostridium symbiosum et rel.</dt><dd>0.87141615986099</dd><dt>Clostridium thermocellum et rel.</dt><dd>0</dd><dt>Collinsella</dt><dd>0.0399652476107732</dd><dt>Coprobacillus catenaformis et rel.</dt><dd>0.000868809730668983</dd><dt>Coprococcus eutactus et rel.</dt><dd>0.647263249348393</dd><dt>Corynebacterium</dt><dd>0</dd><dt>Desulfovibrio et rel.</dt><dd>0</dd><dt>Dialister</dt><dd>0.143353605560382</dd><dt>Dorea formicigenerans et rel.</dt><dd>0.68375325803649</dd><dt>Eggerthella lenta et rel.</dt><dd>0</dd><dt>Enterobacter aerogenes et rel.</dt><dd>0.00173761946133797</dd><dt>Enterococcus</dt><dd>0.00434404865334492</dd><dt>Escherichia coli et rel.</dt><dd>0.0217202432667246</dd><dt>Eubacterium biforme et rel.</dt><dd>0.0173761946133797</dd><dt>Eubacterium cylindroides et rel.</dt><dd>0.000868809730668983</dd><dt>Eubacterium hallii et rel.</dt><dd>0.262380538662033</dd><dt>Eubacterium limosum et rel.</dt><dd>0.000868809730668983</dd><dt>Eubacterium rectale et rel.</dt><dd>0.145960034752389</dd><dt>Eubacterium siraeum et rel.</dt><dd>0</dd><dt>Eubacterium ventriosum et rel.</dt><dd>0.255430060816681</dd><dt>Faecalibacterium prausnitzii et rel.</dt><dd>0.952215464813206</dd><dt>Fusobacteria</dt><dd>0.000868809730668983</dd><dt>Gemella</dt><dd>0</dd><dt>Granulicatella</dt><dd>0</dd><dt>Haemophilus</dt><dd>0</dd><dt>Helicobacter</dt><dd>0</dd><dt>Klebisiella pneumoniae et rel.</dt><dd>0.00347523892267593</dd><dt>Lachnobacillus bovis et rel.</dt><dd>0.191138140747176</dd><dt>Lachnospira pectinoschiza et rel.</dt><dd>0.488271068635969</dd><dt>Lactobacillus catenaformis et rel.</dt><dd>0</dd><dt>Lactobacillus gasseri et rel.</dt><dd>0.00868809730668984</dd><dt>Lactobacillus plantarum et rel.</dt><dd>0.0052128583840139</dd><dt>Lactobacillus salivarius et rel.</dt><dd>0.00260642919200695</dd><dt>Lactococcus</dt><dd>0.00347523892267593</dd><dt>Leminorella</dt><dd>0</dd><dt>Megamonas hypermegale et rel.</dt><dd>0</dd><dt>Megasphaera elsdenii et rel.</dt><dd>0.00868809730668984</dd><dt>Methylobacterium</dt><dd>0</dd><dt>Micrococcaceae</dt><dd>0</dd><dt>Mitsuokella multiacida et rel.</dt><dd>0.0286707211120765</dd><dt>Moraxellaceae</dt><dd>0</dd><dt>Novosphingobium</dt><dd>0</dd><dt>Oceanospirillum</dt><dd>0</dd><dt>Oscillospira guillermondii et rel.</dt><dd>0.88010425716768</dd><dt>Outgrouping clostridium cluster XIVa</dt><dd>0.320590790616855</dd><dt>Oxalobacter formigenes et rel.</dt><dd>0.0052128583840139</dd><dt>Papillibacter cinnamivorans et rel.</dt><dd>0.132927888792354</dd><dt>Parabacteroides distasonis et rel.</dt><dd>0.175499565595135</dd><dt>Peptococcus niger et rel.</dt><dd>0</dd><dt>Peptostreptococcus anaerobius et rel.</dt><dd>0</dd><dt>Peptostreptococcus micros et rel.</dt><dd>0</dd><dt>Phascolarctobacterium faecium et rel.</dt><dd>0.0139009556907037</dd><dt>Prevotella melaninogenica et rel.</dt><dd>0.336229365768897</dd><dt>Prevotella oralis et rel.</dt><dd>0.24761077324066</dd><dt>Prevotella ruminicola et rel.</dt><dd>0</dd><dt>Prevotella tannerae et rel.</dt><dd>0.0251954821894005</dd><dt>Propionibacterium</dt><dd>0</dd><dt>Proteus et rel.</dt><dd>0</dd><dt>Pseudomonas</dt><dd>0</dd><dt>Roseburia intestinalis et rel.</dt><dd>0.0390964378801043</dd><dt>Ruminococcus bromii et rel.</dt><dd>0.341442224152911</dd><dt>Ruminococcus callidus et rel.</dt><dd>0.355343179843614</dd><dt>Ruminococcus gnavus et rel.</dt><dd>0.163336229365769</dd><dt>Ruminococcus lactaris et rel.</dt><dd>0.0999131190269331</dd><dt>Ruminococcus obeum et rel.</dt><dd>0.913987836663771</dd><dt>Serratia</dt><dd>0.0052128583840139</dd><dt>Sporobacter termitidis et rel.</dt><dd>0.771503040834057</dd><dt>Staphylococcus</dt><dd>0</dd><dt>Streptococcus bovis et rel.</dt><dd>0.193744569939183</dd><dt>Streptococcus intermedius et rel.</dt><dd>0.000868809730668983</dd><dt>Streptococcus mitis et rel.</dt><dd>0.0582102519548219</dd><dt>Subdoligranulum variable at rel.</dt><dd>0.835794960903562</dd><dt>Sutterella wadsworthia et rel.</dt><dd>0.0495221546481321</dd><dt>Tannerella et rel.</dt><dd>0.0234578627280626</dd><dt>Uncultured Bacteroidetes</dt><dd>0.000868809730668983</dd><dt>Uncultured Chroococcales</dt><dd>0.000868809730668983</dd><dt>Uncultured Clostridiales I</dt><dd>0.389226759339705</dd><dt>Uncultured Clostridiales II</dt><dd>0.40139009556907</dd><dt>Uncultured Mollicutes</dt><dd>0.0408340573414422</dd><dt>Uncultured Selenomonadaceae</dt><dd>0.00173761946133797</dd><dt>Veillonella</dt><dd>0.00260642919200695</dd><dt>Vibrio</dt><dd>0</dd><dt>Weissella et rel.</dt><dd>0</dd><dt>Wissella et rel.</dt><dd>0</dd><dt>Xanthomonadaceae</dt><dd>0</dd><dt>Yersinia et rel.</dt><dd>0</dd></dl>\n"
      ],
      "text/latex": [
       "\\begin{description*}\n",
       "\\item[Actinomycetaceae] 0\n",
       "\\item[Aerococcus] 0\n",
       "\\item[Aeromonas] 0\n",
       "\\item[Akkermansia] 0.127715030408341\n",
       "\\item[Alcaligenes faecalis et rel.] 0\n",
       "\\item[Allistipes et rel.] 0.493483927019983\n",
       "\\item[Anaerobiospirillum] 0\n",
       "\\item[Anaerofustis] 0\n",
       "\\item[Anaerostipes caccae et rel.] 0.514335360556038\n",
       "\\item[Anaerotruncus colihominis et rel.] 0.0399652476107732\n",
       "\\item[Anaerovorax odorimutans et rel.] 0.00695047784535187\n",
       "\\item[Aneurinibacillus] 0\n",
       "\\item[Aquabacterium] 0\n",
       "\\item[Asteroleplasma et rel.] 0\n",
       "\\item[Atopobium] 0\n",
       "\\item[Bacillus] 0\n",
       "\\item[Bacteroides fragilis et rel.] 0.227628149435274\n",
       "\\item[Bacteroides intestinalis et rel.] 0.00260642919200695\n",
       "\\item[Bacteroides ovatus et rel.] 0.125108601216334\n",
       "\\item[Bacteroides plebeius et rel.] 0.0703735881841877\n",
       "\\item[Bacteroides splachnicus et rel.] 0.0278019113814075\n",
       "\\item[Bacteroides stercoris et rel.] 0.00868809730668984\n",
       "\\item[Bacteroides uniformis et rel.] 0.201563857515204\n",
       "\\item[Bacteroides vulgatus et rel.] 0.731537793223284\n",
       "\\item[Bifidobacterium] 0.40139009556907\n",
       "\\item[Bilophila et rel.] 0\n",
       "\\item[Brachyspira] 0\n",
       "\\item[Bryantella formatexigens et rel.] 0.4874022589053\n",
       "\\item[Bulleidia moorei et rel.] 0\n",
       "\\item[Burkholderia] 0\n",
       "\\item[Butyrivibrio crossotus et rel.] 0.729800173761946\n",
       "\\item[Campylobacter] 0\n",
       "\\item[Catenibacterium mitsuokai et rel.] 0.00955690703735882\n",
       "\\item[Clostridium (sensu stricto)] 0.0321459600347524\n",
       "\\item[Clostridium cellulosi et rel.] 0.686359687228497\n",
       "\\item[Clostridium colinum et rel.] 0.0173761946133797\n",
       "\\item[Clostridium difficile et rel.] 0.0851433536055604\n",
       "\\item[Clostridium felsineum et rel.] 0\n",
       "\\item[Clostridium leptum et rel.] 0.471763683753258\n",
       "\\item[Clostridium nexile et rel.] 0.264118158123371\n",
       "\\item[Clostridium orbiscindens et rel.] 0.831450912250217\n",
       "\\item[Clostridium ramosum et rel.] 0.000868809730668983\n",
       "\\item[Clostridium sphenoides et rel.] 0.476107732406603\n",
       "\\item[Clostridium stercorarium et rel.] 0.0104257167680278\n",
       "\\item[Clostridium symbiosum et rel.] 0.87141615986099\n",
       "\\item[Clostridium thermocellum et rel.] 0\n",
       "\\item[Collinsella] 0.0399652476107732\n",
       "\\item[Coprobacillus catenaformis et rel.] 0.000868809730668983\n",
       "\\item[Coprococcus eutactus et rel.] 0.647263249348393\n",
       "\\item[Corynebacterium] 0\n",
       "\\item[Desulfovibrio et rel.] 0\n",
       "\\item[Dialister] 0.143353605560382\n",
       "\\item[Dorea formicigenerans et rel.] 0.68375325803649\n",
       "\\item[Eggerthella lenta et rel.] 0\n",
       "\\item[Enterobacter aerogenes et rel.] 0.00173761946133797\n",
       "\\item[Enterococcus] 0.00434404865334492\n",
       "\\item[Escherichia coli et rel.] 0.0217202432667246\n",
       "\\item[Eubacterium biforme et rel.] 0.0173761946133797\n",
       "\\item[Eubacterium cylindroides et rel.] 0.000868809730668983\n",
       "\\item[Eubacterium hallii et rel.] 0.262380538662033\n",
       "\\item[Eubacterium limosum et rel.] 0.000868809730668983\n",
       "\\item[Eubacterium rectale et rel.] 0.145960034752389\n",
       "\\item[Eubacterium siraeum et rel.] 0\n",
       "\\item[Eubacterium ventriosum et rel.] 0.255430060816681\n",
       "\\item[Faecalibacterium prausnitzii et rel.] 0.952215464813206\n",
       "\\item[Fusobacteria] 0.000868809730668983\n",
       "\\item[Gemella] 0\n",
       "\\item[Granulicatella] 0\n",
       "\\item[Haemophilus] 0\n",
       "\\item[Helicobacter] 0\n",
       "\\item[Klebisiella pneumoniae et rel.] 0.00347523892267593\n",
       "\\item[Lachnobacillus bovis et rel.] 0.191138140747176\n",
       "\\item[Lachnospira pectinoschiza et rel.] 0.488271068635969\n",
       "\\item[Lactobacillus catenaformis et rel.] 0\n",
       "\\item[Lactobacillus gasseri et rel.] 0.00868809730668984\n",
       "\\item[Lactobacillus plantarum et rel.] 0.0052128583840139\n",
       "\\item[Lactobacillus salivarius et rel.] 0.00260642919200695\n",
       "\\item[Lactococcus] 0.00347523892267593\n",
       "\\item[Leminorella] 0\n",
       "\\item[Megamonas hypermegale et rel.] 0\n",
       "\\item[Megasphaera elsdenii et rel.] 0.00868809730668984\n",
       "\\item[Methylobacterium] 0\n",
       "\\item[Micrococcaceae] 0\n",
       "\\item[Mitsuokella multiacida et rel.] 0.0286707211120765\n",
       "\\item[Moraxellaceae] 0\n",
       "\\item[Novosphingobium] 0\n",
       "\\item[Oceanospirillum] 0\n",
       "\\item[Oscillospira guillermondii et rel.] 0.88010425716768\n",
       "\\item[Outgrouping clostridium cluster XIVa] 0.320590790616855\n",
       "\\item[Oxalobacter formigenes et rel.] 0.0052128583840139\n",
       "\\item[Papillibacter cinnamivorans et rel.] 0.132927888792354\n",
       "\\item[Parabacteroides distasonis et rel.] 0.175499565595135\n",
       "\\item[Peptococcus niger et rel.] 0\n",
       "\\item[Peptostreptococcus anaerobius et rel.] 0\n",
       "\\item[Peptostreptococcus micros et rel.] 0\n",
       "\\item[Phascolarctobacterium faecium et rel.] 0.0139009556907037\n",
       "\\item[Prevotella melaninogenica et rel.] 0.336229365768897\n",
       "\\item[Prevotella oralis et rel.] 0.24761077324066\n",
       "\\item[Prevotella ruminicola et rel.] 0\n",
       "\\item[Prevotella tannerae et rel.] 0.0251954821894005\n",
       "\\item[Propionibacterium] 0\n",
       "\\item[Proteus et rel.] 0\n",
       "\\item[Pseudomonas] 0\n",
       "\\item[Roseburia intestinalis et rel.] 0.0390964378801043\n",
       "\\item[Ruminococcus bromii et rel.] 0.341442224152911\n",
       "\\item[Ruminococcus callidus et rel.] 0.355343179843614\n",
       "\\item[Ruminococcus gnavus et rel.] 0.163336229365769\n",
       "\\item[Ruminococcus lactaris et rel.] 0.0999131190269331\n",
       "\\item[Ruminococcus obeum et rel.] 0.913987836663771\n",
       "\\item[Serratia] 0.0052128583840139\n",
       "\\item[Sporobacter termitidis et rel.] 0.771503040834057\n",
       "\\item[Staphylococcus] 0\n",
       "\\item[Streptococcus bovis et rel.] 0.193744569939183\n",
       "\\item[Streptococcus intermedius et rel.] 0.000868809730668983\n",
       "\\item[Streptococcus mitis et rel.] 0.0582102519548219\n",
       "\\item[Subdoligranulum variable at rel.] 0.835794960903562\n",
       "\\item[Sutterella wadsworthia et rel.] 0.0495221546481321\n",
       "\\item[Tannerella et rel.] 0.0234578627280626\n",
       "\\item[Uncultured Bacteroidetes] 0.000868809730668983\n",
       "\\item[Uncultured Chroococcales] 0.000868809730668983\n",
       "\\item[Uncultured Clostridiales I] 0.389226759339705\n",
       "\\item[Uncultured Clostridiales II] 0.40139009556907\n",
       "\\item[Uncultured Mollicutes] 0.0408340573414422\n",
       "\\item[Uncultured Selenomonadaceae] 0.00173761946133797\n",
       "\\item[Veillonella] 0.00260642919200695\n",
       "\\item[Vibrio] 0\n",
       "\\item[Weissella et rel.] 0\n",
       "\\item[Wissella et rel.] 0\n",
       "\\item[Xanthomonadaceae] 0\n",
       "\\item[Yersinia et rel.] 0\n",
       "\\end{description*}\n"
      ],
      "text/markdown": [
       "Actinomycetaceae\n",
       ":   0Aerococcus\n",
       ":   0Aeromonas\n",
       ":   0Akkermansia\n",
       ":   0.127715030408341Alcaligenes faecalis et rel.\n",
       ":   0Allistipes et rel.\n",
       ":   0.493483927019983Anaerobiospirillum\n",
       ":   0Anaerofustis\n",
       ":   0Anaerostipes caccae et rel.\n",
       ":   0.514335360556038Anaerotruncus colihominis et rel.\n",
       ":   0.0399652476107732Anaerovorax odorimutans et rel.\n",
       ":   0.00695047784535187Aneurinibacillus\n",
       ":   0Aquabacterium\n",
       ":   0Asteroleplasma et rel.\n",
       ":   0Atopobium\n",
       ":   0Bacillus\n",
       ":   0Bacteroides fragilis et rel.\n",
       ":   0.227628149435274Bacteroides intestinalis et rel.\n",
       ":   0.00260642919200695Bacteroides ovatus et rel.\n",
       ":   0.125108601216334Bacteroides plebeius et rel.\n",
       ":   0.0703735881841877Bacteroides splachnicus et rel.\n",
       ":   0.0278019113814075Bacteroides stercoris et rel.\n",
       ":   0.00868809730668984Bacteroides uniformis et rel.\n",
       ":   0.201563857515204Bacteroides vulgatus et rel.\n",
       ":   0.731537793223284Bifidobacterium\n",
       ":   0.40139009556907Bilophila et rel.\n",
       ":   0Brachyspira\n",
       ":   0Bryantella formatexigens et rel.\n",
       ":   0.4874022589053Bulleidia moorei et rel.\n",
       ":   0Burkholderia\n",
       ":   0Butyrivibrio crossotus et rel.\n",
       ":   0.729800173761946Campylobacter\n",
       ":   0Catenibacterium mitsuokai et rel.\n",
       ":   0.00955690703735882Clostridium (sensu stricto)\n",
       ":   0.0321459600347524Clostridium cellulosi et rel.\n",
       ":   0.686359687228497Clostridium colinum et rel.\n",
       ":   0.0173761946133797Clostridium difficile et rel.\n",
       ":   0.0851433536055604Clostridium felsineum et rel.\n",
       ":   0Clostridium leptum et rel.\n",
       ":   0.471763683753258Clostridium nexile et rel.\n",
       ":   0.264118158123371Clostridium orbiscindens et rel.\n",
       ":   0.831450912250217Clostridium ramosum et rel.\n",
       ":   0.000868809730668983Clostridium sphenoides et rel.\n",
       ":   0.476107732406603Clostridium stercorarium et rel.\n",
       ":   0.0104257167680278Clostridium symbiosum et rel.\n",
       ":   0.87141615986099Clostridium thermocellum et rel.\n",
       ":   0Collinsella\n",
       ":   0.0399652476107732Coprobacillus catenaformis et rel.\n",
       ":   0.000868809730668983Coprococcus eutactus et rel.\n",
       ":   0.647263249348393Corynebacterium\n",
       ":   0Desulfovibrio et rel.\n",
       ":   0Dialister\n",
       ":   0.143353605560382Dorea formicigenerans et rel.\n",
       ":   0.68375325803649Eggerthella lenta et rel.\n",
       ":   0Enterobacter aerogenes et rel.\n",
       ":   0.00173761946133797Enterococcus\n",
       ":   0.00434404865334492Escherichia coli et rel.\n",
       ":   0.0217202432667246Eubacterium biforme et rel.\n",
       ":   0.0173761946133797Eubacterium cylindroides et rel.\n",
       ":   0.000868809730668983Eubacterium hallii et rel.\n",
       ":   0.262380538662033Eubacterium limosum et rel.\n",
       ":   0.000868809730668983Eubacterium rectale et rel.\n",
       ":   0.145960034752389Eubacterium siraeum et rel.\n",
       ":   0Eubacterium ventriosum et rel.\n",
       ":   0.255430060816681Faecalibacterium prausnitzii et rel.\n",
       ":   0.952215464813206Fusobacteria\n",
       ":   0.000868809730668983Gemella\n",
       ":   0Granulicatella\n",
       ":   0Haemophilus\n",
       ":   0Helicobacter\n",
       ":   0Klebisiella pneumoniae et rel.\n",
       ":   0.00347523892267593Lachnobacillus bovis et rel.\n",
       ":   0.191138140747176Lachnospira pectinoschiza et rel.\n",
       ":   0.488271068635969Lactobacillus catenaformis et rel.\n",
       ":   0Lactobacillus gasseri et rel.\n",
       ":   0.00868809730668984Lactobacillus plantarum et rel.\n",
       ":   0.0052128583840139Lactobacillus salivarius et rel.\n",
       ":   0.00260642919200695Lactococcus\n",
       ":   0.00347523892267593Leminorella\n",
       ":   0Megamonas hypermegale et rel.\n",
       ":   0Megasphaera elsdenii et rel.\n",
       ":   0.00868809730668984Methylobacterium\n",
       ":   0Micrococcaceae\n",
       ":   0Mitsuokella multiacida et rel.\n",
       ":   0.0286707211120765Moraxellaceae\n",
       ":   0Novosphingobium\n",
       ":   0Oceanospirillum\n",
       ":   0Oscillospira guillermondii et rel.\n",
       ":   0.88010425716768Outgrouping clostridium cluster XIVa\n",
       ":   0.320590790616855Oxalobacter formigenes et rel.\n",
       ":   0.0052128583840139Papillibacter cinnamivorans et rel.\n",
       ":   0.132927888792354Parabacteroides distasonis et rel.\n",
       ":   0.175499565595135Peptococcus niger et rel.\n",
       ":   0Peptostreptococcus anaerobius et rel.\n",
       ":   0Peptostreptococcus micros et rel.\n",
       ":   0Phascolarctobacterium faecium et rel.\n",
       ":   0.0139009556907037Prevotella melaninogenica et rel.\n",
       ":   0.336229365768897Prevotella oralis et rel.\n",
       ":   0.24761077324066Prevotella ruminicola et rel.\n",
       ":   0Prevotella tannerae et rel.\n",
       ":   0.0251954821894005Propionibacterium\n",
       ":   0Proteus et rel.\n",
       ":   0Pseudomonas\n",
       ":   0Roseburia intestinalis et rel.\n",
       ":   0.0390964378801043Ruminococcus bromii et rel.\n",
       ":   0.341442224152911Ruminococcus callidus et rel.\n",
       ":   0.355343179843614Ruminococcus gnavus et rel.\n",
       ":   0.163336229365769Ruminococcus lactaris et rel.\n",
       ":   0.0999131190269331Ruminococcus obeum et rel.\n",
       ":   0.913987836663771Serratia\n",
       ":   0.0052128583840139Sporobacter termitidis et rel.\n",
       ":   0.771503040834057Staphylococcus\n",
       ":   0Streptococcus bovis et rel.\n",
       ":   0.193744569939183Streptococcus intermedius et rel.\n",
       ":   0.000868809730668983Streptococcus mitis et rel.\n",
       ":   0.0582102519548219Subdoligranulum variable at rel.\n",
       ":   0.835794960903562Sutterella wadsworthia et rel.\n",
       ":   0.0495221546481321Tannerella et rel.\n",
       ":   0.0234578627280626Uncultured Bacteroidetes\n",
       ":   0.000868809730668983Uncultured Chroococcales\n",
       ":   0.000868809730668983Uncultured Clostridiales I\n",
       ":   0.389226759339705Uncultured Clostridiales II\n",
       ":   0.40139009556907Uncultured Mollicutes\n",
       ":   0.0408340573414422Uncultured Selenomonadaceae\n",
       ":   0.00173761946133797Veillonella\n",
       ":   0.00260642919200695Vibrio\n",
       ":   0Weissella et rel.\n",
       ":   0Wissella et rel.\n",
       ":   0Xanthomonadaceae\n",
       ":   0Yersinia et rel.\n",
       ":   0\n",
       "\n"
      ],
      "text/plain": [
       "                     Actinomycetaceae                            Aerococcus \n",
       "                         0.0000000000                          0.0000000000 \n",
       "                            Aeromonas                           Akkermansia \n",
       "                         0.0000000000                          0.1277150304 \n",
       "         Alcaligenes faecalis et rel.                    Allistipes et rel. \n",
       "                         0.0000000000                          0.4934839270 \n",
       "                   Anaerobiospirillum                          Anaerofustis \n",
       "                         0.0000000000                          0.0000000000 \n",
       "          Anaerostipes caccae et rel.     Anaerotruncus colihominis et rel. \n",
       "                         0.5143353606                          0.0399652476 \n",
       "      Anaerovorax odorimutans et rel.                      Aneurinibacillus \n",
       "                         0.0069504778                          0.0000000000 \n",
       "                        Aquabacterium                Asteroleplasma et rel. \n",
       "                         0.0000000000                          0.0000000000 \n",
       "                            Atopobium                              Bacillus \n",
       "                         0.0000000000                          0.0000000000 \n",
       "         Bacteroides fragilis et rel.      Bacteroides intestinalis et rel. \n",
       "                         0.2276281494                          0.0026064292 \n",
       "           Bacteroides ovatus et rel.          Bacteroides plebeius et rel. \n",
       "                         0.1251086012                          0.0703735882 \n",
       "      Bacteroides splachnicus et rel.         Bacteroides stercoris et rel. \n",
       "                         0.0278019114                          0.0086880973 \n",
       "        Bacteroides uniformis et rel.          Bacteroides vulgatus et rel. \n",
       "                         0.2015638575                          0.7315377932 \n",
       "                      Bifidobacterium                     Bilophila et rel. \n",
       "                         0.4013900956                          0.0000000000 \n",
       "                          Brachyspira      Bryantella formatexigens et rel. \n",
       "                         0.0000000000                          0.4874022589 \n",
       "             Bulleidia moorei et rel.                          Burkholderia \n",
       "                         0.0000000000                          0.0000000000 \n",
       "       Butyrivibrio crossotus et rel.                         Campylobacter \n",
       "                         0.7298001738                          0.0000000000 \n",
       "    Catenibacterium mitsuokai et rel.           Clostridium (sensu stricto) \n",
       "                         0.0095569070                          0.0321459600 \n",
       "        Clostridium cellulosi et rel.           Clostridium colinum et rel. \n",
       "                         0.6863596872                          0.0173761946 \n",
       "        Clostridium difficile et rel.         Clostridium felsineum et rel. \n",
       "                         0.0851433536                          0.0000000000 \n",
       "           Clostridium leptum et rel.            Clostridium nexile et rel. \n",
       "                         0.4717636838                          0.2641181581 \n",
       "     Clostridium orbiscindens et rel.           Clostridium ramosum et rel. \n",
       "                         0.8314509123                          0.0008688097 \n",
       "       Clostridium sphenoides et rel.      Clostridium stercorarium et rel. \n",
       "                         0.4761077324                          0.0104257168 \n",
       "        Clostridium symbiosum et rel.      Clostridium thermocellum et rel. \n",
       "                         0.8714161599                          0.0000000000 \n",
       "                          Collinsella    Coprobacillus catenaformis et rel. \n",
       "                         0.0399652476                          0.0008688097 \n",
       "         Coprococcus eutactus et rel.                       Corynebacterium \n",
       "                         0.6472632493                          0.0000000000 \n",
       "                Desulfovibrio et rel.                             Dialister \n",
       "                         0.0000000000                          0.1433536056 \n",
       "        Dorea formicigenerans et rel.             Eggerthella lenta et rel. \n",
       "                         0.6837532580                          0.0000000000 \n",
       "       Enterobacter aerogenes et rel.                          Enterococcus \n",
       "                         0.0017376195                          0.0043440487 \n",
       "             Escherichia coli et rel.           Eubacterium biforme et rel. \n",
       "                         0.0217202433                          0.0173761946 \n",
       "     Eubacterium cylindroides et rel.            Eubacterium hallii et rel. \n",
       "                         0.0008688097                          0.2623805387 \n",
       "          Eubacterium limosum et rel.           Eubacterium rectale et rel. \n",
       "                         0.0008688097                          0.1459600348 \n",
       "          Eubacterium siraeum et rel.        Eubacterium ventriosum et rel. \n",
       "                         0.0000000000                          0.2554300608 \n",
       " Faecalibacterium prausnitzii et rel.                          Fusobacteria \n",
       "                         0.9522154648                          0.0008688097 \n",
       "                              Gemella                        Granulicatella \n",
       "                         0.0000000000                          0.0000000000 \n",
       "                          Haemophilus                          Helicobacter \n",
       "                         0.0000000000                          0.0000000000 \n",
       "       Klebisiella pneumoniae et rel.          Lachnobacillus bovis et rel. \n",
       "                         0.0034752389                          0.1911381407 \n",
       "    Lachnospira pectinoschiza et rel.    Lactobacillus catenaformis et rel. \n",
       "                         0.4882710686                          0.0000000000 \n",
       "        Lactobacillus gasseri et rel.       Lactobacillus plantarum et rel. \n",
       "                         0.0086880973                          0.0052128584 \n",
       "     Lactobacillus salivarius et rel.                           Lactococcus \n",
       "                         0.0026064292                          0.0034752389 \n",
       "                          Leminorella         Megamonas hypermegale et rel. \n",
       "                         0.0000000000                          0.0000000000 \n",
       "         Megasphaera elsdenii et rel.                      Methylobacterium \n",
       "                         0.0086880973                          0.0000000000 \n",
       "                       Micrococcaceae        Mitsuokella multiacida et rel. \n",
       "                         0.0000000000                          0.0286707211 \n",
       "                        Moraxellaceae                       Novosphingobium \n",
       "                         0.0000000000                          0.0000000000 \n",
       "                      Oceanospirillum    Oscillospira guillermondii et rel. \n",
       "                         0.0000000000                          0.8801042572 \n",
       " Outgrouping clostridium cluster XIVa        Oxalobacter formigenes et rel. \n",
       "                         0.3205907906                          0.0052128584 \n",
       "  Papillibacter cinnamivorans et rel.    Parabacteroides distasonis et rel. \n",
       "                         0.1329278888                          0.1754995656 \n",
       "            Peptococcus niger et rel. Peptostreptococcus anaerobius et rel. \n",
       "                         0.0000000000                          0.0000000000 \n",
       "    Peptostreptococcus micros et rel. Phascolarctobacterium faecium et rel. \n",
       "                         0.0000000000                          0.0139009557 \n",
       "    Prevotella melaninogenica et rel.             Prevotella oralis et rel. \n",
       "                         0.3362293658                          0.2476107732 \n",
       "        Prevotella ruminicola et rel.           Prevotella tannerae et rel. \n",
       "                         0.0000000000                          0.0251954822 \n",
       "                    Propionibacterium                       Proteus et rel. \n",
       "                         0.0000000000                          0.0000000000 \n",
       "                          Pseudomonas        Roseburia intestinalis et rel. \n",
       "                         0.0000000000                          0.0390964379 \n",
       "          Ruminococcus bromii et rel.         Ruminococcus callidus et rel. \n",
       "                         0.3414422242                          0.3553431798 \n",
       "          Ruminococcus gnavus et rel.         Ruminococcus lactaris et rel. \n",
       "                         0.1633362294                          0.0999131190 \n",
       "           Ruminococcus obeum et rel.                              Serratia \n",
       "                         0.9139878367                          0.0052128584 \n",
       "       Sporobacter termitidis et rel.                        Staphylococcus \n",
       "                         0.7715030408                          0.0000000000 \n",
       "          Streptococcus bovis et rel.     Streptococcus intermedius et rel. \n",
       "                         0.1937445699                          0.0008688097 \n",
       "          Streptococcus mitis et rel.      Subdoligranulum variable at rel. \n",
       "                         0.0582102520                          0.8357949609 \n",
       "       Sutterella wadsworthia et rel.                    Tannerella et rel. \n",
       "                         0.0495221546                          0.0234578627 \n",
       "             Uncultured Bacteroidetes              Uncultured Chroococcales \n",
       "                         0.0008688097                          0.0008688097 \n",
       "           Uncultured Clostridiales I           Uncultured Clostridiales II \n",
       "                         0.3892267593                          0.4013900956 \n",
       "                Uncultured Mollicutes           Uncultured Selenomonadaceae \n",
       "                         0.0408340573                          0.0017376195 \n",
       "                          Veillonella                                Vibrio \n",
       "                         0.0026064292                          0.0000000000 \n",
       "                    Weissella et rel.                      Wissella et rel. \n",
       "                         0.0000000000                          0.0000000000 \n",
       "                     Xanthomonadaceae                      Yersinia et rel. \n",
       "                         0.0000000000                          0.0000000000 "
      ]
     },
     "metadata": {},
     "output_type": "display_data"
    }
   ],
   "source": [
    "getPrevalence(tse, detection = 1/100, as_relative = TRUE)"
   ]
  },
  {
   "cell_type": "markdown",
   "id": "bae8c2d0",
   "metadata": {},
   "source": [
    "A bit tough to read, we can use some additional functions to make better sense of this."
   ]
  },
  {
   "cell_type": "code",
   "execution_count": 11,
   "id": "637d259e",
   "metadata": {},
   "outputs": [
    {
     "data": {
      "text/html": [
       "<style>\n",
       ".list-inline {list-style: none; margin:0; padding: 0}\n",
       ".list-inline>li {display: inline-block}\n",
       ".list-inline>li:not(:last-child)::after {content: \"\\00b7\"; padding: 0 .5ex}\n",
       "</style>\n",
       "<ol class=list-inline><li>'Anaerostipes caccae et rel.'</li><li>'Bacteroides vulgatus et rel.'</li><li>'Butyrivibrio crossotus et rel.'</li><li>'Clostridium cellulosi et rel.'</li><li>'Clostridium orbiscindens et rel.'</li><li>'Clostridium symbiosum et rel.'</li><li>'Coprococcus eutactus et rel.'</li><li>'Dorea formicigenerans et rel.'</li><li>'Faecalibacterium prausnitzii et rel.'</li><li>'Oscillospira guillermondii et rel.'</li><li>'Ruminococcus obeum et rel.'</li><li>'Sporobacter termitidis et rel.'</li><li>'Subdoligranulum variable at rel.'</li></ol>\n"
      ],
      "text/latex": [
       "\\begin{enumerate*}\n",
       "\\item 'Anaerostipes caccae et rel.'\n",
       "\\item 'Bacteroides vulgatus et rel.'\n",
       "\\item 'Butyrivibrio crossotus et rel.'\n",
       "\\item 'Clostridium cellulosi et rel.'\n",
       "\\item 'Clostridium orbiscindens et rel.'\n",
       "\\item 'Clostridium symbiosum et rel.'\n",
       "\\item 'Coprococcus eutactus et rel.'\n",
       "\\item 'Dorea formicigenerans et rel.'\n",
       "\\item 'Faecalibacterium prausnitzii et rel.'\n",
       "\\item 'Oscillospira guillermondii et rel.'\n",
       "\\item 'Ruminococcus obeum et rel.'\n",
       "\\item 'Sporobacter termitidis et rel.'\n",
       "\\item 'Subdoligranulum variable at rel.'\n",
       "\\end{enumerate*}\n"
      ],
      "text/markdown": [
       "1. 'Anaerostipes caccae et rel.'\n",
       "2. 'Bacteroides vulgatus et rel.'\n",
       "3. 'Butyrivibrio crossotus et rel.'\n",
       "4. 'Clostridium cellulosi et rel.'\n",
       "5. 'Clostridium orbiscindens et rel.'\n",
       "6. 'Clostridium symbiosum et rel.'\n",
       "7. 'Coprococcus eutactus et rel.'\n",
       "8. 'Dorea formicigenerans et rel.'\n",
       "9. 'Faecalibacterium prausnitzii et rel.'\n",
       "10. 'Oscillospira guillermondii et rel.'\n",
       "11. 'Ruminococcus obeum et rel.'\n",
       "12. 'Sporobacter termitidis et rel.'\n",
       "13. 'Subdoligranulum variable at rel.'\n",
       "\n",
       "\n"
      ],
      "text/plain": [
       " [1] \"Anaerostipes caccae et rel.\"         \n",
       " [2] \"Bacteroides vulgatus et rel.\"        \n",
       " [3] \"Butyrivibrio crossotus et rel.\"      \n",
       " [4] \"Clostridium cellulosi et rel.\"       \n",
       " [5] \"Clostridium orbiscindens et rel.\"    \n",
       " [6] \"Clostridium symbiosum et rel.\"       \n",
       " [7] \"Coprococcus eutactus et rel.\"        \n",
       " [8] \"Dorea formicigenerans et rel.\"       \n",
       " [9] \"Faecalibacterium prausnitzii et rel.\"\n",
       "[10] \"Oscillospira guillermondii et rel.\"  \n",
       "[11] \"Ruminococcus obeum et rel.\"          \n",
       "[12] \"Sporobacter termitidis et rel.\"      \n",
       "[13] \"Subdoligranulum variable at rel.\"    "
      ]
     },
     "metadata": {},
     "output_type": "display_data"
    },
    {
     "data": {
      "text/html": [
       "<style>\n",
       ".list-inline {list-style: none; margin:0; padding: 0}\n",
       ".list-inline>li {display: inline-block}\n",
       ".list-inline>li:not(:last-child)::after {content: \"\\00b7\"; padding: 0 .5ex}\n",
       "</style>\n",
       "<ol class=list-inline><li>'Actinomycetaceae'</li><li>'Aerococcus'</li><li>'Aeromonas'</li><li>'Akkermansia'</li><li>'Alcaligenes faecalis et rel.'</li><li>'Allistipes et rel.'</li><li>'Anaerobiospirillum'</li><li>'Anaerofustis'</li><li>'Anaerotruncus colihominis et rel.'</li><li>'Anaerovorax odorimutans et rel.'</li><li>'Aneurinibacillus'</li><li>'Aquabacterium'</li><li>'Asteroleplasma et rel.'</li><li>'Atopobium'</li><li>'Bacillus'</li><li>'Bacteroides fragilis et rel.'</li><li>'Bacteroides intestinalis et rel.'</li><li>'Bacteroides ovatus et rel.'</li><li>'Bacteroides plebeius et rel.'</li><li>'Bacteroides splachnicus et rel.'</li><li>'Bacteroides stercoris et rel.'</li><li>'Bacteroides uniformis et rel.'</li><li>'Bifidobacterium'</li><li>'Bilophila et rel.'</li><li>'Brachyspira'</li><li>'Bryantella formatexigens et rel.'</li><li>'Bulleidia moorei et rel.'</li><li>'Burkholderia'</li><li>'Campylobacter'</li><li>'Catenibacterium mitsuokai et rel.'</li><li>'Clostridium (sensu stricto)'</li><li>'Clostridium colinum et rel.'</li><li>'Clostridium difficile et rel.'</li><li>'Clostridium felsineum et rel.'</li><li>'Clostridium leptum et rel.'</li><li>'Clostridium nexile et rel.'</li><li>'Clostridium ramosum et rel.'</li><li>'Clostridium sphenoides et rel.'</li><li>'Clostridium stercorarium et rel.'</li><li>'Clostridium thermocellum et rel.'</li><li>'Collinsella'</li><li>'Coprobacillus catenaformis et rel.'</li><li>'Corynebacterium'</li><li>'Desulfovibrio et rel.'</li><li>'Dialister'</li><li>'Eggerthella lenta et rel.'</li><li>'Enterobacter aerogenes et rel.'</li><li>'Enterococcus'</li><li>'Escherichia coli et rel.'</li><li>'Eubacterium biforme et rel.'</li><li>'Eubacterium cylindroides et rel.'</li><li>'Eubacterium hallii et rel.'</li><li>'Eubacterium limosum et rel.'</li><li>'Eubacterium rectale et rel.'</li><li>'Eubacterium siraeum et rel.'</li><li>'Eubacterium ventriosum et rel.'</li><li>'Fusobacteria'</li><li>'Gemella'</li><li>'Granulicatella'</li><li>'Haemophilus'</li><li>'Helicobacter'</li><li>'Klebisiella pneumoniae et rel.'</li><li>'Lachnobacillus bovis et rel.'</li><li>'Lachnospira pectinoschiza et rel.'</li><li>'Lactobacillus catenaformis et rel.'</li><li>'Lactobacillus gasseri et rel.'</li><li>'Lactobacillus plantarum et rel.'</li><li>'Lactobacillus salivarius et rel.'</li><li>'Lactococcus'</li><li>'Leminorella'</li><li>'Megamonas hypermegale et rel.'</li><li>'Megasphaera elsdenii et rel.'</li><li>'Methylobacterium'</li><li>'Micrococcaceae'</li><li>'Mitsuokella multiacida et rel.'</li><li>'Moraxellaceae'</li><li>'Novosphingobium'</li><li>'Oceanospirillum'</li><li>'Outgrouping clostridium cluster XIVa'</li><li>'Oxalobacter formigenes et rel.'</li><li>'Papillibacter cinnamivorans et rel.'</li><li>'Parabacteroides distasonis et rel.'</li><li>'Peptococcus niger et rel.'</li><li>'Peptostreptococcus anaerobius et rel.'</li><li>'Peptostreptococcus micros et rel.'</li><li>'Phascolarctobacterium faecium et rel.'</li><li>'Prevotella melaninogenica et rel.'</li><li>'Prevotella oralis et rel.'</li><li>'Prevotella ruminicola et rel.'</li><li>'Prevotella tannerae et rel.'</li><li>'Propionibacterium'</li><li>'Proteus et rel.'</li><li>'Pseudomonas'</li><li>'Roseburia intestinalis et rel.'</li><li>'Ruminococcus bromii et rel.'</li><li>'Ruminococcus callidus et rel.'</li><li>'Ruminococcus gnavus et rel.'</li><li>'Ruminococcus lactaris et rel.'</li><li>'Serratia'</li><li>'Staphylococcus'</li><li>'Streptococcus bovis et rel.'</li><li>'Streptococcus intermedius et rel.'</li><li>'Streptococcus mitis et rel.'</li><li>'Sutterella wadsworthia et rel.'</li><li>'Tannerella et rel.'</li><li>'Uncultured Bacteroidetes'</li><li>'Uncultured Chroococcales'</li><li>'Uncultured Clostridiales I'</li><li>'Uncultured Clostridiales II'</li><li>'Uncultured Mollicutes'</li><li>'Uncultured Selenomonadaceae'</li><li>'Veillonella'</li><li>'Vibrio'</li><li>'Weissella et rel.'</li><li>'Wissella et rel.'</li><li>'Xanthomonadaceae'</li><li>'Yersinia et rel.'</li></ol>\n"
      ],
      "text/latex": [
       "\\begin{enumerate*}\n",
       "\\item 'Actinomycetaceae'\n",
       "\\item 'Aerococcus'\n",
       "\\item 'Aeromonas'\n",
       "\\item 'Akkermansia'\n",
       "\\item 'Alcaligenes faecalis et rel.'\n",
       "\\item 'Allistipes et rel.'\n",
       "\\item 'Anaerobiospirillum'\n",
       "\\item 'Anaerofustis'\n",
       "\\item 'Anaerotruncus colihominis et rel.'\n",
       "\\item 'Anaerovorax odorimutans et rel.'\n",
       "\\item 'Aneurinibacillus'\n",
       "\\item 'Aquabacterium'\n",
       "\\item 'Asteroleplasma et rel.'\n",
       "\\item 'Atopobium'\n",
       "\\item 'Bacillus'\n",
       "\\item 'Bacteroides fragilis et rel.'\n",
       "\\item 'Bacteroides intestinalis et rel.'\n",
       "\\item 'Bacteroides ovatus et rel.'\n",
       "\\item 'Bacteroides plebeius et rel.'\n",
       "\\item 'Bacteroides splachnicus et rel.'\n",
       "\\item 'Bacteroides stercoris et rel.'\n",
       "\\item 'Bacteroides uniformis et rel.'\n",
       "\\item 'Bifidobacterium'\n",
       "\\item 'Bilophila et rel.'\n",
       "\\item 'Brachyspira'\n",
       "\\item 'Bryantella formatexigens et rel.'\n",
       "\\item 'Bulleidia moorei et rel.'\n",
       "\\item 'Burkholderia'\n",
       "\\item 'Campylobacter'\n",
       "\\item 'Catenibacterium mitsuokai et rel.'\n",
       "\\item 'Clostridium (sensu stricto)'\n",
       "\\item 'Clostridium colinum et rel.'\n",
       "\\item 'Clostridium difficile et rel.'\n",
       "\\item 'Clostridium felsineum et rel.'\n",
       "\\item 'Clostridium leptum et rel.'\n",
       "\\item 'Clostridium nexile et rel.'\n",
       "\\item 'Clostridium ramosum et rel.'\n",
       "\\item 'Clostridium sphenoides et rel.'\n",
       "\\item 'Clostridium stercorarium et rel.'\n",
       "\\item 'Clostridium thermocellum et rel.'\n",
       "\\item 'Collinsella'\n",
       "\\item 'Coprobacillus catenaformis et rel.'\n",
       "\\item 'Corynebacterium'\n",
       "\\item 'Desulfovibrio et rel.'\n",
       "\\item 'Dialister'\n",
       "\\item 'Eggerthella lenta et rel.'\n",
       "\\item 'Enterobacter aerogenes et rel.'\n",
       "\\item 'Enterococcus'\n",
       "\\item 'Escherichia coli et rel.'\n",
       "\\item 'Eubacterium biforme et rel.'\n",
       "\\item 'Eubacterium cylindroides et rel.'\n",
       "\\item 'Eubacterium hallii et rel.'\n",
       "\\item 'Eubacterium limosum et rel.'\n",
       "\\item 'Eubacterium rectale et rel.'\n",
       "\\item 'Eubacterium siraeum et rel.'\n",
       "\\item 'Eubacterium ventriosum et rel.'\n",
       "\\item 'Fusobacteria'\n",
       "\\item 'Gemella'\n",
       "\\item 'Granulicatella'\n",
       "\\item 'Haemophilus'\n",
       "\\item 'Helicobacter'\n",
       "\\item 'Klebisiella pneumoniae et rel.'\n",
       "\\item 'Lachnobacillus bovis et rel.'\n",
       "\\item 'Lachnospira pectinoschiza et rel.'\n",
       "\\item 'Lactobacillus catenaformis et rel.'\n",
       "\\item 'Lactobacillus gasseri et rel.'\n",
       "\\item 'Lactobacillus plantarum et rel.'\n",
       "\\item 'Lactobacillus salivarius et rel.'\n",
       "\\item 'Lactococcus'\n",
       "\\item 'Leminorella'\n",
       "\\item 'Megamonas hypermegale et rel.'\n",
       "\\item 'Megasphaera elsdenii et rel.'\n",
       "\\item 'Methylobacterium'\n",
       "\\item 'Micrococcaceae'\n",
       "\\item 'Mitsuokella multiacida et rel.'\n",
       "\\item 'Moraxellaceae'\n",
       "\\item 'Novosphingobium'\n",
       "\\item 'Oceanospirillum'\n",
       "\\item 'Outgrouping clostridium cluster XIVa'\n",
       "\\item 'Oxalobacter formigenes et rel.'\n",
       "\\item 'Papillibacter cinnamivorans et rel.'\n",
       "\\item 'Parabacteroides distasonis et rel.'\n",
       "\\item 'Peptococcus niger et rel.'\n",
       "\\item 'Peptostreptococcus anaerobius et rel.'\n",
       "\\item 'Peptostreptococcus micros et rel.'\n",
       "\\item 'Phascolarctobacterium faecium et rel.'\n",
       "\\item 'Prevotella melaninogenica et rel.'\n",
       "\\item 'Prevotella oralis et rel.'\n",
       "\\item 'Prevotella ruminicola et rel.'\n",
       "\\item 'Prevotella tannerae et rel.'\n",
       "\\item 'Propionibacterium'\n",
       "\\item 'Proteus et rel.'\n",
       "\\item 'Pseudomonas'\n",
       "\\item 'Roseburia intestinalis et rel.'\n",
       "\\item 'Ruminococcus bromii et rel.'\n",
       "\\item 'Ruminococcus callidus et rel.'\n",
       "\\item 'Ruminococcus gnavus et rel.'\n",
       "\\item 'Ruminococcus lactaris et rel.'\n",
       "\\item 'Serratia'\n",
       "\\item 'Staphylococcus'\n",
       "\\item 'Streptococcus bovis et rel.'\n",
       "\\item 'Streptococcus intermedius et rel.'\n",
       "\\item 'Streptococcus mitis et rel.'\n",
       "\\item 'Sutterella wadsworthia et rel.'\n",
       "\\item 'Tannerella et rel.'\n",
       "\\item 'Uncultured Bacteroidetes'\n",
       "\\item 'Uncultured Chroococcales'\n",
       "\\item 'Uncultured Clostridiales I'\n",
       "\\item 'Uncultured Clostridiales II'\n",
       "\\item 'Uncultured Mollicutes'\n",
       "\\item 'Uncultured Selenomonadaceae'\n",
       "\\item 'Veillonella'\n",
       "\\item 'Vibrio'\n",
       "\\item 'Weissella et rel.'\n",
       "\\item 'Wissella et rel.'\n",
       "\\item 'Xanthomonadaceae'\n",
       "\\item 'Yersinia et rel.'\n",
       "\\end{enumerate*}\n"
      ],
      "text/markdown": [
       "1. 'Actinomycetaceae'\n",
       "2. 'Aerococcus'\n",
       "3. 'Aeromonas'\n",
       "4. 'Akkermansia'\n",
       "5. 'Alcaligenes faecalis et rel.'\n",
       "6. 'Allistipes et rel.'\n",
       "7. 'Anaerobiospirillum'\n",
       "8. 'Anaerofustis'\n",
       "9. 'Anaerotruncus colihominis et rel.'\n",
       "10. 'Anaerovorax odorimutans et rel.'\n",
       "11. 'Aneurinibacillus'\n",
       "12. 'Aquabacterium'\n",
       "13. 'Asteroleplasma et rel.'\n",
       "14. 'Atopobium'\n",
       "15. 'Bacillus'\n",
       "16. 'Bacteroides fragilis et rel.'\n",
       "17. 'Bacteroides intestinalis et rel.'\n",
       "18. 'Bacteroides ovatus et rel.'\n",
       "19. 'Bacteroides plebeius et rel.'\n",
       "20. 'Bacteroides splachnicus et rel.'\n",
       "21. 'Bacteroides stercoris et rel.'\n",
       "22. 'Bacteroides uniformis et rel.'\n",
       "23. 'Bifidobacterium'\n",
       "24. 'Bilophila et rel.'\n",
       "25. 'Brachyspira'\n",
       "26. 'Bryantella formatexigens et rel.'\n",
       "27. 'Bulleidia moorei et rel.'\n",
       "28. 'Burkholderia'\n",
       "29. 'Campylobacter'\n",
       "30. 'Catenibacterium mitsuokai et rel.'\n",
       "31. 'Clostridium (sensu stricto)'\n",
       "32. 'Clostridium colinum et rel.'\n",
       "33. 'Clostridium difficile et rel.'\n",
       "34. 'Clostridium felsineum et rel.'\n",
       "35. 'Clostridium leptum et rel.'\n",
       "36. 'Clostridium nexile et rel.'\n",
       "37. 'Clostridium ramosum et rel.'\n",
       "38. 'Clostridium sphenoides et rel.'\n",
       "39. 'Clostridium stercorarium et rel.'\n",
       "40. 'Clostridium thermocellum et rel.'\n",
       "41. 'Collinsella'\n",
       "42. 'Coprobacillus catenaformis et rel.'\n",
       "43. 'Corynebacterium'\n",
       "44. 'Desulfovibrio et rel.'\n",
       "45. 'Dialister'\n",
       "46. 'Eggerthella lenta et rel.'\n",
       "47. 'Enterobacter aerogenes et rel.'\n",
       "48. 'Enterococcus'\n",
       "49. 'Escherichia coli et rel.'\n",
       "50. 'Eubacterium biforme et rel.'\n",
       "51. 'Eubacterium cylindroides et rel.'\n",
       "52. 'Eubacterium hallii et rel.'\n",
       "53. 'Eubacterium limosum et rel.'\n",
       "54. 'Eubacterium rectale et rel.'\n",
       "55. 'Eubacterium siraeum et rel.'\n",
       "56. 'Eubacterium ventriosum et rel.'\n",
       "57. 'Fusobacteria'\n",
       "58. 'Gemella'\n",
       "59. 'Granulicatella'\n",
       "60. 'Haemophilus'\n",
       "61. 'Helicobacter'\n",
       "62. 'Klebisiella pneumoniae et rel.'\n",
       "63. 'Lachnobacillus bovis et rel.'\n",
       "64. 'Lachnospira pectinoschiza et rel.'\n",
       "65. 'Lactobacillus catenaformis et rel.'\n",
       "66. 'Lactobacillus gasseri et rel.'\n",
       "67. 'Lactobacillus plantarum et rel.'\n",
       "68. 'Lactobacillus salivarius et rel.'\n",
       "69. 'Lactococcus'\n",
       "70. 'Leminorella'\n",
       "71. 'Megamonas hypermegale et rel.'\n",
       "72. 'Megasphaera elsdenii et rel.'\n",
       "73. 'Methylobacterium'\n",
       "74. 'Micrococcaceae'\n",
       "75. 'Mitsuokella multiacida et rel.'\n",
       "76. 'Moraxellaceae'\n",
       "77. 'Novosphingobium'\n",
       "78. 'Oceanospirillum'\n",
       "79. 'Outgrouping clostridium cluster XIVa'\n",
       "80. 'Oxalobacter formigenes et rel.'\n",
       "81. 'Papillibacter cinnamivorans et rel.'\n",
       "82. 'Parabacteroides distasonis et rel.'\n",
       "83. 'Peptococcus niger et rel.'\n",
       "84. 'Peptostreptococcus anaerobius et rel.'\n",
       "85. 'Peptostreptococcus micros et rel.'\n",
       "86. 'Phascolarctobacterium faecium et rel.'\n",
       "87. 'Prevotella melaninogenica et rel.'\n",
       "88. 'Prevotella oralis et rel.'\n",
       "89. 'Prevotella ruminicola et rel.'\n",
       "90. 'Prevotella tannerae et rel.'\n",
       "91. 'Propionibacterium'\n",
       "92. 'Proteus et rel.'\n",
       "93. 'Pseudomonas'\n",
       "94. 'Roseburia intestinalis et rel.'\n",
       "95. 'Ruminococcus bromii et rel.'\n",
       "96. 'Ruminococcus callidus et rel.'\n",
       "97. 'Ruminococcus gnavus et rel.'\n",
       "98. 'Ruminococcus lactaris et rel.'\n",
       "99. 'Serratia'\n",
       "100. 'Staphylococcus'\n",
       "101. 'Streptococcus bovis et rel.'\n",
       "102. 'Streptococcus intermedius et rel.'\n",
       "103. 'Streptococcus mitis et rel.'\n",
       "104. 'Sutterella wadsworthia et rel.'\n",
       "105. 'Tannerella et rel.'\n",
       "106. 'Uncultured Bacteroidetes'\n",
       "107. 'Uncultured Chroococcales'\n",
       "108. 'Uncultured Clostridiales I'\n",
       "109. 'Uncultured Clostridiales II'\n",
       "110. 'Uncultured Mollicutes'\n",
       "111. 'Uncultured Selenomonadaceae'\n",
       "112. 'Veillonella'\n",
       "113. 'Vibrio'\n",
       "114. 'Weissella et rel.'\n",
       "115. 'Wissella et rel.'\n",
       "116. 'Xanthomonadaceae'\n",
       "117. 'Yersinia et rel.'\n",
       "\n",
       "\n"
      ],
      "text/plain": [
       "  [1] \"Actinomycetaceae\"                     \n",
       "  [2] \"Aerococcus\"                           \n",
       "  [3] \"Aeromonas\"                            \n",
       "  [4] \"Akkermansia\"                          \n",
       "  [5] \"Alcaligenes faecalis et rel.\"         \n",
       "  [6] \"Allistipes et rel.\"                   \n",
       "  [7] \"Anaerobiospirillum\"                   \n",
       "  [8] \"Anaerofustis\"                         \n",
       "  [9] \"Anaerotruncus colihominis et rel.\"    \n",
       " [10] \"Anaerovorax odorimutans et rel.\"      \n",
       " [11] \"Aneurinibacillus\"                     \n",
       " [12] \"Aquabacterium\"                        \n",
       " [13] \"Asteroleplasma et rel.\"               \n",
       " [14] \"Atopobium\"                            \n",
       " [15] \"Bacillus\"                             \n",
       " [16] \"Bacteroides fragilis et rel.\"         \n",
       " [17] \"Bacteroides intestinalis et rel.\"     \n",
       " [18] \"Bacteroides ovatus et rel.\"           \n",
       " [19] \"Bacteroides plebeius et rel.\"         \n",
       " [20] \"Bacteroides splachnicus et rel.\"      \n",
       " [21] \"Bacteroides stercoris et rel.\"        \n",
       " [22] \"Bacteroides uniformis et rel.\"        \n",
       " [23] \"Bifidobacterium\"                      \n",
       " [24] \"Bilophila et rel.\"                    \n",
       " [25] \"Brachyspira\"                          \n",
       " [26] \"Bryantella formatexigens et rel.\"     \n",
       " [27] \"Bulleidia moorei et rel.\"             \n",
       " [28] \"Burkholderia\"                         \n",
       " [29] \"Campylobacter\"                        \n",
       " [30] \"Catenibacterium mitsuokai et rel.\"    \n",
       " [31] \"Clostridium (sensu stricto)\"          \n",
       " [32] \"Clostridium colinum et rel.\"          \n",
       " [33] \"Clostridium difficile et rel.\"        \n",
       " [34] \"Clostridium felsineum et rel.\"        \n",
       " [35] \"Clostridium leptum et rel.\"           \n",
       " [36] \"Clostridium nexile et rel.\"           \n",
       " [37] \"Clostridium ramosum et rel.\"          \n",
       " [38] \"Clostridium sphenoides et rel.\"       \n",
       " [39] \"Clostridium stercorarium et rel.\"     \n",
       " [40] \"Clostridium thermocellum et rel.\"     \n",
       " [41] \"Collinsella\"                          \n",
       " [42] \"Coprobacillus catenaformis et rel.\"   \n",
       " [43] \"Corynebacterium\"                      \n",
       " [44] \"Desulfovibrio et rel.\"                \n",
       " [45] \"Dialister\"                            \n",
       " [46] \"Eggerthella lenta et rel.\"            \n",
       " [47] \"Enterobacter aerogenes et rel.\"       \n",
       " [48] \"Enterococcus\"                         \n",
       " [49] \"Escherichia coli et rel.\"             \n",
       " [50] \"Eubacterium biforme et rel.\"          \n",
       " [51] \"Eubacterium cylindroides et rel.\"     \n",
       " [52] \"Eubacterium hallii et rel.\"           \n",
       " [53] \"Eubacterium limosum et rel.\"          \n",
       " [54] \"Eubacterium rectale et rel.\"          \n",
       " [55] \"Eubacterium siraeum et rel.\"          \n",
       " [56] \"Eubacterium ventriosum et rel.\"       \n",
       " [57] \"Fusobacteria\"                         \n",
       " [58] \"Gemella\"                              \n",
       " [59] \"Granulicatella\"                       \n",
       " [60] \"Haemophilus\"                          \n",
       " [61] \"Helicobacter\"                         \n",
       " [62] \"Klebisiella pneumoniae et rel.\"       \n",
       " [63] \"Lachnobacillus bovis et rel.\"         \n",
       " [64] \"Lachnospira pectinoschiza et rel.\"    \n",
       " [65] \"Lactobacillus catenaformis et rel.\"   \n",
       " [66] \"Lactobacillus gasseri et rel.\"        \n",
       " [67] \"Lactobacillus plantarum et rel.\"      \n",
       " [68] \"Lactobacillus salivarius et rel.\"     \n",
       " [69] \"Lactococcus\"                          \n",
       " [70] \"Leminorella\"                          \n",
       " [71] \"Megamonas hypermegale et rel.\"        \n",
       " [72] \"Megasphaera elsdenii et rel.\"         \n",
       " [73] \"Methylobacterium\"                     \n",
       " [74] \"Micrococcaceae\"                       \n",
       " [75] \"Mitsuokella multiacida et rel.\"       \n",
       " [76] \"Moraxellaceae\"                        \n",
       " [77] \"Novosphingobium\"                      \n",
       " [78] \"Oceanospirillum\"                      \n",
       " [79] \"Outgrouping clostridium cluster XIVa\" \n",
       " [80] \"Oxalobacter formigenes et rel.\"       \n",
       " [81] \"Papillibacter cinnamivorans et rel.\"  \n",
       " [82] \"Parabacteroides distasonis et rel.\"   \n",
       " [83] \"Peptococcus niger et rel.\"            \n",
       " [84] \"Peptostreptococcus anaerobius et rel.\"\n",
       " [85] \"Peptostreptococcus micros et rel.\"    \n",
       " [86] \"Phascolarctobacterium faecium et rel.\"\n",
       " [87] \"Prevotella melaninogenica et rel.\"    \n",
       " [88] \"Prevotella oralis et rel.\"            \n",
       " [89] \"Prevotella ruminicola et rel.\"        \n",
       " [90] \"Prevotella tannerae et rel.\"          \n",
       " [91] \"Propionibacterium\"                    \n",
       " [92] \"Proteus et rel.\"                      \n",
       " [93] \"Pseudomonas\"                          \n",
       " [94] \"Roseburia intestinalis et rel.\"       \n",
       " [95] \"Ruminococcus bromii et rel.\"          \n",
       " [96] \"Ruminococcus callidus et rel.\"        \n",
       " [97] \"Ruminococcus gnavus et rel.\"          \n",
       " [98] \"Ruminococcus lactaris et rel.\"        \n",
       " [99] \"Serratia\"                             \n",
       "[100] \"Staphylococcus\"                       \n",
       "[101] \"Streptococcus bovis et rel.\"          \n",
       "[102] \"Streptococcus intermedius et rel.\"    \n",
       "[103] \"Streptococcus mitis et rel.\"          \n",
       "[104] \"Sutterella wadsworthia et rel.\"       \n",
       "[105] \"Tannerella et rel.\"                   \n",
       "[106] \"Uncultured Bacteroidetes\"             \n",
       "[107] \"Uncultured Chroococcales\"             \n",
       "[108] \"Uncultured Clostridiales I\"           \n",
       "[109] \"Uncultured Clostridiales II\"          \n",
       "[110] \"Uncultured Mollicutes\"                \n",
       "[111] \"Uncultured Selenomonadaceae\"          \n",
       "[112] \"Veillonella\"                          \n",
       "[113] \"Vibrio\"                               \n",
       "[114] \"Weissella et rel.\"                    \n",
       "[115] \"Wissella et rel.\"                     \n",
       "[116] \"Xanthomonadaceae\"                     \n",
       "[117] \"Yersinia et rel.\"                     "
      ]
     },
     "metadata": {},
     "output_type": "display_data"
    }
   ],
   "source": [
    "getPrevalentTaxa(tse, detection = 1/100, as_relative = TRUE)\n",
    "getRareTaxa(tse, detection = 1/100, as_relative = TRUE)"
   ]
  },
  {
   "cell_type": "markdown",
   "id": "9279f472",
   "metadata": {},
   "source": [
    "Of course, there are often many ways to accomplish the same goal. We can take the initial list and sort it from highest to lowest prevalence then just take the first few results."
   ]
  },
  {
   "cell_type": "code",
   "execution_count": 12,
   "id": "aa1bbd49",
   "metadata": {},
   "outputs": [
    {
     "data": {
      "text/html": [
       "<style>\n",
       ".dl-inline {width: auto; margin:0; padding: 0}\n",
       ".dl-inline>dt, .dl-inline>dd {float: none; width: auto; display: inline-block}\n",
       ".dl-inline>dt::after {content: \":\\0020\"; padding-right: .5ex}\n",
       ".dl-inline>dt:not(:first-of-type) {padding-left: .5ex}\n",
       "</style><dl class=dl-inline><dt>Faecalibacterium prausnitzii et rel.</dt><dd>0.952215464813206</dd><dt>Ruminococcus obeum et rel.</dt><dd>0.913987836663771</dd><dt>Oscillospira guillermondii et rel.</dt><dd>0.88010425716768</dd><dt>Clostridium symbiosum et rel.</dt><dd>0.87141615986099</dd><dt>Subdoligranulum variable at rel.</dt><dd>0.835794960903562</dd><dt>Clostridium orbiscindens et rel.</dt><dd>0.831450912250217</dd></dl>\n"
      ],
      "text/latex": [
       "\\begin{description*}\n",
       "\\item[Faecalibacterium prausnitzii et rel.] 0.952215464813206\n",
       "\\item[Ruminococcus obeum et rel.] 0.913987836663771\n",
       "\\item[Oscillospira guillermondii et rel.] 0.88010425716768\n",
       "\\item[Clostridium symbiosum et rel.] 0.87141615986099\n",
       "\\item[Subdoligranulum variable at rel.] 0.835794960903562\n",
       "\\item[Clostridium orbiscindens et rel.] 0.831450912250217\n",
       "\\end{description*}\n"
      ],
      "text/markdown": [
       "Faecalibacterium prausnitzii et rel.\n",
       ":   0.952215464813206Ruminococcus obeum et rel.\n",
       ":   0.913987836663771Oscillospira guillermondii et rel.\n",
       ":   0.88010425716768Clostridium symbiosum et rel.\n",
       ":   0.87141615986099Subdoligranulum variable at rel.\n",
       ":   0.835794960903562Clostridium orbiscindens et rel.\n",
       ":   0.831450912250217\n",
       "\n"
      ],
      "text/plain": [
       "Faecalibacterium prausnitzii et rel.           Ruminococcus obeum et rel. \n",
       "                           0.9522155                            0.9139878 \n",
       "  Oscillospira guillermondii et rel.        Clostridium symbiosum et rel. \n",
       "                           0.8801043                            0.8714162 \n",
       "    Subdoligranulum variable at rel.     Clostridium orbiscindens et rel. \n",
       "                           0.8357950                            0.8314509 "
      ]
     },
     "metadata": {},
     "output_type": "display_data"
    }
   ],
   "source": [
    "head(getPrevalence(tse, detection = 1/100, sort = TRUE, as_relative = TRUE))"
   ]
  },
  {
   "cell_type": "markdown",
   "id": "242054c9",
   "metadata": {},
   "source": [
    "The results seem congruent. We might also want to capture taxa that miss the relative abundance threshold, yet are still present at some low raw-count frequency:"
   ]
  },
  {
   "cell_type": "code",
   "execution_count": 13,
   "id": "12140091",
   "metadata": {},
   "outputs": [
    {
     "data": {
      "text/html": [
       "<style>\n",
       ".dl-inline {width: auto; margin:0; padding: 0}\n",
       ".dl-inline>dt, .dl-inline>dd {float: none; width: auto; display: inline-block}\n",
       ".dl-inline>dt::after {content: \":\\0020\"; padding-right: .5ex}\n",
       ".dl-inline>dt:not(:first-of-type) {padding-left: .5ex}\n",
       "</style><dl class=dl-inline><dt>Uncultured Mollicutes</dt><dd>1</dd><dt>Uncultured Clostridiales II</dt><dd>1</dd><dt>Uncultured Clostridiales I</dt><dd>1</dd><dt>Tannerella et rel.</dt><dd>1</dd><dt>Sutterella wadsworthia et rel.</dt><dd>1</dd><dt>Subdoligranulum variable at rel.</dt><dd>1</dd></dl>\n"
      ],
      "text/latex": [
       "\\begin{description*}\n",
       "\\item[Uncultured Mollicutes] 1\n",
       "\\item[Uncultured Clostridiales II] 1\n",
       "\\item[Uncultured Clostridiales I] 1\n",
       "\\item[Tannerella et rel.] 1\n",
       "\\item[Sutterella wadsworthia et rel.] 1\n",
       "\\item[Subdoligranulum variable at rel.] 1\n",
       "\\end{description*}\n"
      ],
      "text/markdown": [
       "Uncultured Mollicutes\n",
       ":   1Uncultured Clostridiales II\n",
       ":   1Uncultured Clostridiales I\n",
       ":   1Tannerella et rel.\n",
       ":   1Sutterella wadsworthia et rel.\n",
       ":   1Subdoligranulum variable at rel.\n",
       ":   1\n",
       "\n"
      ],
      "text/plain": [
       "           Uncultured Mollicutes      Uncultured Clostridiales II \n",
       "                               1                                1 \n",
       "      Uncultured Clostridiales I               Tannerella et rel. \n",
       "                               1                                1 \n",
       "  Sutterella wadsworthia et rel. Subdoligranulum variable at rel. \n",
       "                               1                                1 "
      ]
     },
     "metadata": {},
     "output_type": "display_data"
    }
   ],
   "source": [
    "head(getPrevalence(tse, detection = 1, sort = TRUE, abund_values = \"counts\",\n",
    "                   as_relative = FALSE))"
   ]
  },
  {
   "cell_type": "markdown",
   "id": "6e5a3e71",
   "metadata": {},
   "source": [
    "Nice! We can also agglomerate to a higher taxonomical level to get a better sense of the phyla distribution:"
   ]
  },
  {
   "cell_type": "code",
   "execution_count": 14,
   "id": "6fbf542d",
   "metadata": {},
   "outputs": [
    {
     "data": {
      "text/html": [
       "<style>\n",
       ".dl-inline {width: auto; margin:0; padding: 0}\n",
       ".dl-inline>dt, .dl-inline>dd {float: none; width: auto; display: inline-block}\n",
       ".dl-inline>dt::after {content: \":\\0020\"; padding-right: .5ex}\n",
       ".dl-inline>dt:not(:first-of-type) {padding-left: .5ex}\n",
       "</style><dl class=dl-inline><dt>Firmicutes</dt><dd>1</dd><dt>Bacteroidetes</dt><dd>0.985230234578627</dd><dt>Actinobacteria</dt><dd>0.482189400521286</dd><dt>Proteobacteria</dt><dd>0.29887054735013</dd><dt>Verrucomicrobia</dt><dd>0.127715030408341</dd><dt>Cyanobacteria</dt><dd>0.000868809730668983</dd></dl>\n"
      ],
      "text/latex": [
       "\\begin{description*}\n",
       "\\item[Firmicutes] 1\n",
       "\\item[Bacteroidetes] 0.985230234578627\n",
       "\\item[Actinobacteria] 0.482189400521286\n",
       "\\item[Proteobacteria] 0.29887054735013\n",
       "\\item[Verrucomicrobia] 0.127715030408341\n",
       "\\item[Cyanobacteria] 0.000868809730668983\n",
       "\\end{description*}\n"
      ],
      "text/markdown": [
       "Firmicutes\n",
       ":   1Bacteroidetes\n",
       ":   0.985230234578627Actinobacteria\n",
       ":   0.482189400521286Proteobacteria\n",
       ":   0.29887054735013Verrucomicrobia\n",
       ":   0.127715030408341Cyanobacteria\n",
       ":   0.000868809730668983\n",
       "\n"
      ],
      "text/plain": [
       "     Firmicutes   Bacteroidetes  Actinobacteria  Proteobacteria Verrucomicrobia \n",
       "   1.0000000000    0.9852302346    0.4821894005    0.2988705474    0.1277150304 \n",
       "  Cyanobacteria \n",
       "   0.0008688097 "
      ]
     },
     "metadata": {},
     "output_type": "display_data"
    }
   ],
   "source": [
    "altExp(tse,\"Phylum\") <- agglomerateByRank(tse, \"Phylum\")\n",
    "head(getPrevalence(altExp(tse,\"Phylum\"), detection = 1/100, sort = TRUE,\n",
    "                   abund_values = \"counts\", as_relative = TRUE))"
   ]
  },
  {
   "cell_type": "markdown",
   "id": "e6466ec9",
   "metadata": {},
   "source": [
    "And with a little data processing we can identify the top taxa and plot a tree to visualize the relationships."
   ]
  },
  {
   "cell_type": "code",
   "execution_count": 15,
   "id": "e8e79bb7",
   "metadata": {},
   "outputs": [
    {
     "name": "stderr",
     "output_type": "stream",
     "text": [
      "Warning message in toTree(td):\n",
      "\"The root is added with label 'ALL'\"\n"
     ]
    },
    {
     "data": {
      "image/png": "[encoded data removed]",
      "text/plain": [
       "plot without title"
      ]
     },
     "metadata": {
      "image/png": {
       "height": 420,
       "width": 420
      }
     },
     "output_type": "display_data"
    }
   ],
   "source": [
    "rowData(altExp(tse,\"Phylum\"))$prevalence <- \n",
    "    getPrevalence(altExp(tse,\"Phylum\"), detection = 1/100, sort = FALSE,\n",
    "                  abund_values = \"counts\", as_relative = TRUE)\n",
    "altExps(tse) <- splitByRanks(tse)\n",
    "altExps(tse) <-\n",
    "   lapply(altExps(tse),\n",
    "          function(y){\n",
    "              rowData(y)$prevalence <- \n",
    "                  getPrevalence(y, detection = 1/100, sort = FALSE,\n",
    "                                abund_values = \"counts\", as_relative = TRUE)\n",
    "              y\n",
    "          })\n",
    "top_phyla <- getTopTaxa(altExp(tse,\"Phylum\"),\n",
    "                        method=\"prevalence\",\n",
    "                        top=5L,\n",
    "                        abund_values=\"counts\")\n",
    "top_phyla_mean <- getTopTaxa(altExp(tse,\"Phylum\"),\n",
    "                             method=\"mean\",\n",
    "                             top=5L,\n",
    "                             abund_values=\"counts\")\n",
    "x <- unsplitByRanks(tse, ranks = taxonomyRanks(tse)[1:6])\n",
    "x <- addTaxonomyTree(x)\n",
    "\n",
    "plotRowTree(x[rowData(x)$Phylum %in% top_phyla,],\n",
    "            edge_colour_by = \"Phylum\",\n",
    "            tip_colour_by = \"prevalence\",\n",
    "            node_colour_by = \"prevalence\")"
   ]
  },
  {
   "cell_type": "markdown",
   "id": "f91b5947",
   "metadata": {},
   "source": [
    "## Diversity Analysis <a name=\"diversity-analysis\"></a>"
   ]
  },
  {
   "cell_type": "markdown",
   "id": "be806531",
   "metadata": {},
   "source": [
    "### Alpha-Diversity <a name=\"alpha\"></a>"
   ]
  },
  {
   "cell_type": "markdown",
   "id": "ceb6bb98",
   "metadata": {},
   "source": [
    "Alpha diversity, summarizes the distribution of species abundances in a given sample into a single number that depends on species richness and evenness.   \n",
    "Diversity indices measure the overall community heterogeneity."
   ]
  },
  {
   "cell_type": "code",
   "execution_count": 16,
   "id": "aeb0b347",
   "metadata": {},
   "outputs": [],
   "source": [
    "tse <- GlobalPatterns"
   ]
  },
  {
   "cell_type": "markdown",
   "id": "53174a8b",
   "metadata": {},
   "source": [
    "#### Non-Phylogenetic measures"
   ]
  },
  {
   "cell_type": "markdown",
   "id": "f316f554",
   "metadata": {},
   "source": [
    "`estimateDiversity`, calculates the selected diversity index based on the selected assay data"
   ]
  },
  {
   "cell_type": "code",
   "execution_count": 17,
   "id": "bf1212c1",
   "metadata": {},
   "outputs": [
    {
     "data": {
      "text/html": [
       "<style>\n",
       ".dl-inline {width: auto; margin:0; padding: 0}\n",
       ".dl-inline>dt, .dl-inline>dd {float: none; width: auto; display: inline-block}\n",
       ".dl-inline>dt::after {content: \":\\0020\"; padding-right: .5ex}\n",
       ".dl-inline>dt:not(:first-of-type) {padding-left: .5ex}\n",
       "</style><dl class=dl-inline><dt>CL3</dt><dd>6.57651742304478</dd><dt>CC1</dt><dd>6.77660288071507</dd><dt>SV1</dt><dd>6.49849389515857</dd><dt>M31Fcsw</dt><dd>3.82836770297108</dd><dt>M11Fcsw</dt><dd>3.28766555480112</dd><dt>M31Plmr</dt><dd>4.28926869273873</dd></dl>\n"
      ],
      "text/latex": [
       "\\begin{description*}\n",
       "\\item[CL3] 6.57651742304478\n",
       "\\item[CC1] 6.77660288071507\n",
       "\\item[SV1] 6.49849389515857\n",
       "\\item[M31Fcsw] 3.82836770297108\n",
       "\\item[M11Fcsw] 3.28766555480112\n",
       "\\item[M31Plmr] 4.28926869273873\n",
       "\\end{description*}\n"
      ],
      "text/markdown": [
       "CL3\n",
       ":   6.57651742304478CC1\n",
       ":   6.77660288071507SV1\n",
       ":   6.49849389515857M31Fcsw\n",
       ":   3.82836770297108M11Fcsw\n",
       ":   3.28766555480112M31Plmr\n",
       ":   4.28926869273873\n",
       "\n"
      ],
      "text/plain": [
       "     CL3      CC1      SV1  M31Fcsw  M11Fcsw  M31Plmr \n",
       "6.576517 6.776603 6.498494 3.828368 3.287666 4.289269 "
      ]
     },
     "metadata": {},
     "output_type": "display_data"
    }
   ],
   "source": [
    "tse <- mia::estimateDiversity(tse, \n",
    "                              abund_values = \"counts\",\n",
    "                              index = \"shannon\", \n",
    "                              name = \"shannon\")\n",
    "head(colData(tse)$shannon)"
   ]
  },
  {
   "cell_type": "markdown",
   "id": "15dadac5",
   "metadata": {},
   "source": [
    "estimateDiversity adds the calculated measures to the colData of the `SummarizedExperiment` under the given column `name`"
   ]
  },
  {
   "cell_type": "code",
   "execution_count": 18,
   "id": "fe7e5127",
   "metadata": {},
   "outputs": [
    {
     "data": {
      "text/plain": [
       "class: TreeSummarizedExperiment \n",
       "dim: 19216 26 \n",
       "metadata(0):\n",
       "assays(1): counts\n",
       "rownames(19216): 549322 522457 ... 200359 271582\n",
       "rowData names(7): Kingdom Phylum ... Genus Species\n",
       "colnames(26): CL3 CC1 ... Even2 Even3\n",
       "colData names(8): X.SampleID Primer ... Description shannon\n",
       "reducedDimNames(0):\n",
       "mainExpName: NULL\n",
       "altExpNames(0):\n",
       "rowLinks: a LinkDataFrame (19216 rows)\n",
       "rowTree: 1 phylo tree(s) (19216 leaves)\n",
       "colLinks: NULL\n",
       "colTree: NULL"
      ]
     },
     "metadata": {},
     "output_type": "display_data"
    }
   ],
   "source": [
    "tse"
   ]
  },
  {
   "cell_type": "markdown",
   "id": "6d4c63a2",
   "metadata": {},
   "source": [
    "With the estimate now stored in our SummarizedExperiment we can plot it the same way we would any other column"
   ]
  },
  {
   "cell_type": "code",
   "execution_count": 19,
   "id": "3e81c226",
   "metadata": {},
   "outputs": [
    {
     "data": {
      "image/png": "[encoded data removed]",
      "text/plain": [
       "plot without title"
      ]
     },
     "metadata": {
      "image/png": {
       "height": 420,
       "width": 420
      }
     },
     "output_type": "display_data"
    }
   ],
   "source": [
    "library(ggplot2)\n",
    "library(patchwork)\n",
    "\n",
    "# Subsets the data. Takes only those samples that are from feces, skin, or tongue,\n",
    "# and creates data frame from the collected data\n",
    "df <- as.data.frame(colData(tse)[colData(tse)$SampleType %in% \n",
    "                                  c(\"Feces\", \"Skin\", \"Tongue\"), ])\n",
    "\n",
    "# Changes old levels with new levels\n",
    "df$SampleType <- factor(df$SampleType)\n",
    "\n",
    "ggplot(df, aes(x = SampleType, y = shannon)) +\n",
    "  # Outliers are removed, because otherwise each data point would be plotted twice; \n",
    "  # as an outlier of boxplot and as a point of dotplot.\n",
    "  geom_boxplot(outlier.shape = NA) + \n",
    "  geom_jitter(width = 0.2) +\n",
    "  theme(text = element_text(size = 10))"
   ]
  },
  {
   "cell_type": "markdown",
   "id": "944b95ee",
   "metadata": {},
   "source": [
    "#### Phylogenetic measures"
   ]
  },
  {
   "cell_type": "markdown",
   "id": "47099264",
   "metadata": {},
   "source": [
    "The Faith index is returned by the function `estimateFaith`"
   ]
  },
  {
   "cell_type": "code",
   "execution_count": 20,
   "id": "dee1c8bd",
   "metadata": {},
   "outputs": [
    {
     "data": {
      "text/html": [
       "<style>\n",
       ".list-inline {list-style: none; margin:0; padding: 0}\n",
       ".list-inline>li {display: inline-block}\n",
       ".list-inline>li:not(:last-child)::after {content: \"\\00b7\"; padding: 0 .5ex}\n",
       "</style>\n",
       "<ol class=list-inline><li>250.5354</li><li>262.26288</li><li>208.45779</li><li>117.87617</li><li>119.8247</li><li>135.76728</li></ol>\n"
      ],
      "text/latex": [
       "\\begin{enumerate*}\n",
       "\\item 250.5354\n",
       "\\item 262.26288\n",
       "\\item 208.45779\n",
       "\\item 117.87617\n",
       "\\item 119.8247\n",
       "\\item 135.76728\n",
       "\\end{enumerate*}\n"
      ],
      "text/markdown": [
       "1. 250.5354\n",
       "2. 262.26288\n",
       "3. 208.45779\n",
       "4. 117.87617\n",
       "5. 119.8247\n",
       "6. 135.76728\n",
       "\n",
       "\n"
      ],
      "text/plain": [
       "[1] 250.5354 262.2629 208.4578 117.8762 119.8247 135.7673"
      ]
     },
     "metadata": {},
     "output_type": "display_data"
    }
   ],
   "source": [
    "tse <- mia::estimateFaith(tse,name='faith',\n",
    "                          abund_values = \"counts\")\n",
    "head(colData(tse)$faith)"
   ]
  },
  {
   "cell_type": "markdown",
   "id": "db759a1b",
   "metadata": {},
   "source": [
    "tse's ownphylogenetic tree is used by default.   \n",
    "However, the optional argument tree must be provided if tse does not contain one"
   ]
  },
  {
   "cell_type": "markdown",
   "id": "9beec4ed",
   "metadata": {},
   "source": [
    "We can compate between the shannon and faith indices."
   ]
  },
  {
   "cell_type": "code",
   "execution_count": 21,
   "id": "4643839a",
   "metadata": {},
   "outputs": [
    {
     "name": "stderr",
     "output_type": "stream",
     "text": [
      "Loading required package: scuttle\n",
      "\n"
     ]
    },
    {
     "data": {
      "image/png": "[encoded data removed]",
      "text/plain": [
       "plot without title"
      ]
     },
     "metadata": {
      "image/png": {
       "height": 420,
       "width": 420
      }
     },
     "output_type": "display_data"
    }
   ],
   "source": [
    "library(scater)\n",
    "plots <- lapply(c(\"shannon\", \"faith\"),\n",
    "                plotColData,\n",
    "                object = tse, colour_by = \"SampleType\")\n",
    "plots[[1]] + plots[[2]] +\n",
    "  plot_layout(guides = \"collect\")"
   ]
  },
  {
   "cell_type": "markdown",
   "id": "0a22f884",
   "metadata": {},
   "source": [
    "### Beta-Diversity <a name=\"beta\"></a>"
   ]
  },
  {
   "cell_type": "markdown",
   "id": "e1411ec6",
   "metadata": {},
   "source": [
    "Where alpha diversity focuses on community variation within a community (sample),  \n",
    "beta diversity quantifies similarites/dissimilarites between different communities/samples"
   ]
  },
  {
   "cell_type": "code",
   "execution_count": 22,
   "id": "4f877582",
   "metadata": {},
   "outputs": [],
   "source": [
    "tse <- transformCounts(tse, method = \"relabundance\")\n",
    "\n",
    "# Add group information Feces yes/no\n",
    "colData(tse)$Group <- colData(tse)$SampleType==\"Feces\""
   ]
  },
  {
   "cell_type": "markdown",
   "id": "a2949b26",
   "metadata": {},
   "source": [
    "The permutational analysis of variance (PERMANOVA) is a widely used non-parametric multivariate method that can be used to estimate the actual statistical significance of differences in the observed community composition between two groups of samples.\n",
    "\n",
    "PERMANOVA evaluates the hypothesis that the centroids and dispersion of the community are equivalent between the compared groups. A small p-value indicates that the compared groups have, on average, a different community composition."
   ]
  },
  {
   "cell_type": "code",
   "execution_count": 23,
   "id": "14bba411",
   "metadata": {},
   "outputs": [
    {
     "name": "stdout",
     "output_type": "stream",
     "text": [
      "[1] 0.0014\n"
     ]
    }
   ],
   "source": [
    "permanova <- vegan::adonis(t(assay(tse,\"relabundance\")) ~ Group,\n",
    "                           data = colData(tse),\n",
    "                           permutations = 9999)\n",
    "\n",
    "# P-value\n",
    "print(as.data.frame(permanova$aov.tab)[\"Group\", \"Pr(>F)\"])"
   ]
  },
  {
   "cell_type": "markdown",
   "id": "6e1dd509",
   "metadata": {},
   "source": [
    "In this case, the community composition is not significantly different between the groups.\n",
    "\n",
    "Let us visualize the model coefficients for species that exhibit the largest differences between the groups. To see how the groups differ from each other in terms of community composition."
   ]
  },
  {
   "cell_type": "code",
   "execution_count": 24,
   "id": "6739c28e",
   "metadata": {},
   "outputs": [
    {
     "data": {
      "image/png": "[encoded data removed]",
      "text/plain": [
       "plot without title"
      ]
     },
     "metadata": {
      "image/png": {
       "height": 420,
       "width": 420
      }
     },
     "output_type": "display_data"
    }
   ],
   "source": [
    "coef <- coefficients(permanova)[\"Group1\",]\n",
    "top.coef <- sort(head(coef[rev(order(abs(coef)))],20))\n",
    "\n",
    "ggplot(data.frame(x = top.coef,\n",
    "                  y = factor(names(top.coef),\n",
    "                                      unique(names(top.coef)))),\n",
    "        aes(x = x, y = y)) +\n",
    "    geom_bar(stat=\"identity\") +\n",
    "    labs(x=\"\",y=\"\",title=\"Top Taxa\") +\n",
    "    theme_bw()"
   ]
  },
  {
   "cell_type": "markdown",
   "id": "4c948ce1",
   "metadata": {},
   "source": [
    "The largest differences between the two groups can be attributed to Bacteroides intestinalis (549656) and Faecalibacterium prausnitzii (331820), and many other co-varying species."
   ]
  },
  {
   "cell_type": "markdown",
   "id": "ec68c3f0",
   "metadata": {},
   "source": [
    "## Conclusion <a name=\"conclusion\"></a>"
   ]
  },
  {
   "cell_type": "markdown",
   "id": "9b8ed149",
   "metadata": {},
   "source": [
    "Here we have shown a couple of examples for using the `mia` package.  \n",
    "\n",
    "The benifits of `mia` is how easy it is to navigate and use the `TreeSummarizedExperiment` datatype, either with preloaded datasets, or an import of your own. Alongside its compatability to preexsisting graphing methods, and multiple built in functions for different calculations.\n",
    "\n",
    "Allowing you to do all parts of the analysis, from exploration of the data, to diversity analysis, to many many other possible inquries all of which can be found at the following [documentation](https://microbiome.github.io/)  \n"
   ]
  }
 ],
 "metadata": {
  "kernelspec": {
   "display_name": "R",
   "language": "R",
   "name": "ir"
  },
  "language_info": {
   "codemirror_mode": "r",
   "file_extension": ".r",
   "mimetype": "text/x-r-source",
   "name": "R",
   "pygments_lexer": "r",
   "version": "4.1.2"
  }
 },
 "nbformat": 4,
 "nbformat_minor": 5
}
